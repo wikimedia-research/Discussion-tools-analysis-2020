{
 "cells": [
  {
   "cell_type": "markdown",
   "metadata": {},
   "source": [
    "## Post-deployment QA: Reply tool Instrumentation - New VEFU Events "
   ]
  },
  {
   "cell_type": "markdown",
   "metadata": {},
   "source": [
    "This task is about ensuring that the newly added events to the [VisualEditorFeatureUse](https://meta.wikimedia.org/wiki/Schema:VisualEditorFeatureUse) schema are being logged correctly in database.\n",
    "\n",
    "Test scenarios and status are documented in this [QC document](https://docs.google.com/spreadsheets/d/1txtypYKZHCiZEFnkye9LX7riF3VEippMmvN6ILs_BUQ/edit#gid=605234531)"
   ]
  },
  {
   "cell_type": "code",
   "execution_count": 8,
   "metadata": {},
   "outputs": [],
   "source": [
    "shhh <- function(expr) suppressPackageStartupMessages(suppressWarnings(suppressMessages(expr)))\n",
    "shhh({\n",
    "    library(tidyverse); library(glue); library(lubridate); library(scales)\n",
    "})"
   ]
  },
  {
   "cell_type": "code",
   "execution_count": 53,
   "metadata": {},
   "outputs": [],
   "source": [
    "# Collect VEFU events after deployment\n",
    "query <- \n",
    "\"SELECT\n",
    "    date_format(dt, 'yyyy-MM-dd') AS date,\n",
    "    wiki AS wiki,\n",
    "    event.editor_interface AS editor_interface,\n",
    "    event.platform AS platform,\n",
    "    event.feature As feature,\n",
    "    event.integration AS integration,\n",
    "    event.action AS action,\n",
    "    COUNT(*) AS events\n",
    "FROM event.visualeditorfeatureuse\n",
    "WHERE \n",
    "-- reviewing a few days prior to confirm when events started firing\n",
    "    year = 2020 \n",
    "    AND month >= 09\n",
    "    AND wiki <> 'testwiki'\n",
    "GROUP BY\n",
    "    date_format(dt, 'yyyy-MM-dd'),\n",
    "    wiki,\n",
    "    event.editor_interface,\n",
    "    event.feature,\n",
    "    event.integration,\n",
    "    event.platform,\n",
    "    event.action\n",
    "\""
   ]
  },
  {
   "cell_type": "code",
   "execution_count": 54,
   "metadata": {},
   "outputs": [
    {
     "name": "stderr",
     "output_type": "stream",
     "text": [
      "Don't forget to authenticate with Kerberos using kinit\n",
      "\n"
     ]
    }
   ],
   "source": [
    "collect_vefu_events <- wmfdata::query_hive(query)"
   ]
  },
  {
   "cell_type": "code",
   "execution_count": 55,
   "metadata": {},
   "outputs": [],
   "source": [
    "collect_vefu_events$date <- as.Date(collect_vefu_events$date, format = \"%Y-%m-%d\")"
   ]
  },
  {
   "cell_type": "markdown",
   "metadata": {},
   "source": [
    "# 2. Advanced Affordance Events\n",
    "\n",
    "Event added that logs when people \"open\" the Reply Tool's advanced \"shelf\". \n",
    "\n",
    "This functionality can be accessed by clicking the Advanced link that will appear beneath the text input area and can be used to customize the edit summary that accompanies the comments they post with the Reply Tool.\n",
    "\n",
    "It was deployed on 17 September 2020 to all wikis where the reply tool was accessible. \n",
    "\n",
    "**Event**\t**Name**\n",
    "* An event that fires when the Advanced link/affordance is clicked to \"show\" the Comment summary field\tfeature: dtReply, action: advanced-show\n",
    "* An event that fires when the Advanced link/affordance is clicked to \"hide\" the Comment summary field\tfeature: dtReply, action: advanced-hide\n",
    "\n",
    "\n",
    "[Task](https://phabricator.wikimedia.org/T261816)"
   ]
  },
  {
   "cell_type": "markdown",
   "metadata": {},
   "source": [
    "## Confirm Events Firing as Expected"
   ]
  },
  {
   "cell_type": "code",
   "execution_count": 47,
   "metadata": {},
   "outputs": [
    {
     "data": {
      "text/html": [
       "<table>\n",
       "<caption>A data.frame: 46 × 8</caption>\n",
       "<thead>\n",
       "\t<tr><th scope=col>date</th><th scope=col>wiki</th><th scope=col>editor_interface</th><th scope=col>platform</th><th scope=col>feature</th><th scope=col>integration</th><th scope=col>action</th><th scope=col>events</th></tr>\n",
       "\t<tr><th scope=col>&lt;date&gt;</th><th scope=col>&lt;chr&gt;</th><th scope=col>&lt;chr&gt;</th><th scope=col>&lt;chr&gt;</th><th scope=col>&lt;chr&gt;</th><th scope=col>&lt;chr&gt;</th><th scope=col>&lt;chr&gt;</th><th scope=col>&lt;int&gt;</th></tr>\n",
       "</thead>\n",
       "<tbody>\n",
       "\t<tr><td>2020-09-17</td><td>arwiki</td><td>visualeditor</td><td>desktop</td><td>dtReply</td><td>discussiontools</td><td>advanced-show</td><td> 1</td></tr>\n",
       "\t<tr><td>2020-09-17</td><td>hewiki</td><td>wikitext    </td><td>desktop</td><td>dtReply</td><td>discussiontools</td><td>advanced-show</td><td> 1</td></tr>\n",
       "\t<tr><td>2020-09-18</td><td>jawiki</td><td>wikitext    </td><td>desktop</td><td>dtReply</td><td>discussiontools</td><td>advanced-show</td><td> 1</td></tr>\n",
       "\t<tr><td>2020-09-18</td><td>zhwiki</td><td>wikitext    </td><td>desktop</td><td>dtReply</td><td>discussiontools</td><td>advanced-show</td><td> 1</td></tr>\n",
       "\t<tr><td>2020-09-18</td><td>frwiki</td><td>wikitext    </td><td>desktop</td><td>dtReply</td><td>discussiontools</td><td>advanced-show</td><td> 1</td></tr>\n",
       "\t<tr><td>2020-09-18</td><td>kowiki</td><td>wikitext    </td><td>desktop</td><td>dtReply</td><td>discussiontools</td><td>advanced-show</td><td> 1</td></tr>\n",
       "\t<tr><td>2020-09-19</td><td>enwiki</td><td>wikitext    </td><td>desktop</td><td>dtReply</td><td>discussiontools</td><td>advanced-show</td><td> 1</td></tr>\n",
       "\t<tr><td>2020-09-19</td><td>jawiki</td><td>wikitext    </td><td>desktop</td><td>dtReply</td><td>discussiontools</td><td>advanced-show</td><td> 1</td></tr>\n",
       "\t<tr><td>2020-09-20</td><td>huwiki</td><td>wikitext    </td><td>desktop</td><td>dtReply</td><td>discussiontools</td><td>advanced-show</td><td> 2</td></tr>\n",
       "\t<tr><td>2020-09-20</td><td>huwiki</td><td>visualeditor</td><td>desktop</td><td>dtReply</td><td>discussiontools</td><td>advanced-show</td><td> 1</td></tr>\n",
       "\t<tr><td>2020-09-20</td><td>kowiki</td><td>wikitext    </td><td>desktop</td><td>dtReply</td><td>discussiontools</td><td>advanced-show</td><td> 1</td></tr>\n",
       "\t<tr><td>2020-09-21</td><td>frwiki</td><td>visualeditor</td><td>desktop</td><td>dtReply</td><td>discussiontools</td><td>advanced-show</td><td> 1</td></tr>\n",
       "\t<tr><td>2020-09-21</td><td>arwiki</td><td>wikitext    </td><td>desktop</td><td>dtReply</td><td>discussiontools</td><td>advanced-show</td><td> 2</td></tr>\n",
       "\t<tr><td>2020-09-22</td><td>jawiki</td><td>wikitext    </td><td>desktop</td><td>dtReply</td><td>discussiontools</td><td>advanced-show</td><td> 1</td></tr>\n",
       "\t<tr><td>2020-09-23</td><td>nlwiki</td><td>visualeditor</td><td>desktop</td><td>dtReply</td><td>discussiontools</td><td>advanced-show</td><td> 1</td></tr>\n",
       "\t<tr><td>2020-09-23</td><td>viwiki</td><td>visualeditor</td><td>desktop</td><td>dtReply</td><td>discussiontools</td><td>advanced-show</td><td> 1</td></tr>\n",
       "\t<tr><td>2020-09-24</td><td>huwiki</td><td>wikitext    </td><td>desktop</td><td>dtReply</td><td>discussiontools</td><td>advanced-show</td><td> 1</td></tr>\n",
       "\t<tr><td>2020-09-24</td><td>cswiki</td><td>visualeditor</td><td>desktop</td><td>dtReply</td><td>discussiontools</td><td>advanced-show</td><td> 1</td></tr>\n",
       "\t<tr><td>2020-09-25</td><td>arwiki</td><td>visualeditor</td><td>desktop</td><td>dtReply</td><td>discussiontools</td><td>advanced-show</td><td> 1</td></tr>\n",
       "\t<tr><td>2020-09-25</td><td>nlwiki</td><td>wikitext    </td><td>desktop</td><td>dtReply</td><td>discussiontools</td><td>advanced-show</td><td> 1</td></tr>\n",
       "\t<tr><td>2020-09-25</td><td>arwiki</td><td>wikitext    </td><td>desktop</td><td>dtReply</td><td>discussiontools</td><td>advanced-show</td><td> 1</td></tr>\n",
       "\t<tr><td>2020-09-27</td><td>huwiki</td><td>wikitext    </td><td>desktop</td><td>dtReply</td><td>discussiontools</td><td>advanced-show</td><td> 1</td></tr>\n",
       "\t<tr><td>2020-09-27</td><td>svwiki</td><td>wikitext    </td><td>desktop</td><td>dtReply</td><td>discussiontools</td><td>advanced-show</td><td> 3</td></tr>\n",
       "\t<tr><td>2020-09-28</td><td>svwiki</td><td>wikitext    </td><td>desktop</td><td>dtReply</td><td>discussiontools</td><td>advanced-show</td><td> 5</td></tr>\n",
       "\t<tr><td>2020-09-29</td><td>enwiki</td><td>visualeditor</td><td>desktop</td><td>dtReply</td><td>discussiontools</td><td>advanced-show</td><td> 6</td></tr>\n",
       "\t<tr><td>2020-09-29</td><td>frwiki</td><td>visualeditor</td><td>desktop</td><td>dtReply</td><td>discussiontools</td><td>advanced-show</td><td> 9</td></tr>\n",
       "\t<tr><td>2020-09-29</td><td>nlwiki</td><td>wikitext    </td><td>desktop</td><td>dtReply</td><td>discussiontools</td><td>advanced-show</td><td> 1</td></tr>\n",
       "\t<tr><td>2020-09-29</td><td>svwiki</td><td>wikitext    </td><td>desktop</td><td>dtReply</td><td>discussiontools</td><td>advanced-show</td><td>15</td></tr>\n",
       "\t<tr><td>2020-09-30</td><td>svwiki</td><td>wikitext    </td><td>desktop</td><td>dtReply</td><td>discussiontools</td><td>advanced-show</td><td> 3</td></tr>\n",
       "\t<tr><td>2020-10-01</td><td>zhwiki</td><td>visualeditor</td><td>desktop</td><td>dtReply</td><td>discussiontools</td><td>advanced-show</td><td> 1</td></tr>\n",
       "\t<tr><td>2020-10-01</td><td>svwiki</td><td>wikitext    </td><td>desktop</td><td>dtReply</td><td>discussiontools</td><td>advanced-show</td><td> 1</td></tr>\n",
       "\t<tr><td>2020-10-02</td><td>huwiki</td><td>wikitext    </td><td>desktop</td><td>dtReply</td><td>discussiontools</td><td>advanced-show</td><td> 1</td></tr>\n",
       "\t<tr><td>2020-10-02</td><td>cswiki</td><td>wikitext    </td><td>desktop</td><td>dtReply</td><td>discussiontools</td><td>advanced-show</td><td> 1</td></tr>\n",
       "\t<tr><td>2020-10-03</td><td>kowiki</td><td>wikitext    </td><td>desktop</td><td>dtReply</td><td>discussiontools</td><td>advanced-show</td><td> 1</td></tr>\n",
       "\t<tr><td>2020-10-03</td><td>svwiki</td><td>wikitext    </td><td>desktop</td><td>dtReply</td><td>discussiontools</td><td>advanced-show</td><td> 1</td></tr>\n",
       "\t<tr><td>2020-10-04</td><td>frwiki</td><td>wikitext    </td><td>desktop</td><td>dtReply</td><td>discussiontools</td><td>advanced-show</td><td> 1</td></tr>\n",
       "\t<tr><td>2020-10-05</td><td>kowiki</td><td>wikitext    </td><td>desktop</td><td>dtReply</td><td>discussiontools</td><td>advanced-show</td><td> 1</td></tr>\n",
       "\t<tr><td>2020-10-05</td><td>arwiki</td><td>visualeditor</td><td>desktop</td><td>dtReply</td><td>discussiontools</td><td>advanced-show</td><td> 1</td></tr>\n",
       "\t<tr><td>2020-10-05</td><td>nlwiki</td><td>wikitext    </td><td>desktop</td><td>dtReply</td><td>discussiontools</td><td>advanced-show</td><td> 1</td></tr>\n",
       "\t<tr><td>2020-10-06</td><td>nlwiki</td><td>wikitext    </td><td>desktop</td><td>dtReply</td><td>discussiontools</td><td>advanced-show</td><td> 2</td></tr>\n",
       "\t<tr><td>2020-10-06</td><td>huwiki</td><td>wikitext    </td><td>desktop</td><td>dtReply</td><td>discussiontools</td><td>advanced-show</td><td> 1</td></tr>\n",
       "\t<tr><td>2020-10-07</td><td>frwiki</td><td>wikitext    </td><td>desktop</td><td>dtReply</td><td>discussiontools</td><td>advanced-show</td><td> 2</td></tr>\n",
       "\t<tr><td>2020-10-08</td><td>arwiki</td><td>visualeditor</td><td>desktop</td><td>dtReply</td><td>discussiontools</td><td>advanced-show</td><td> 1</td></tr>\n",
       "\t<tr><td>2020-10-08</td><td>nlwiki</td><td>wikitext    </td><td>desktop</td><td>dtReply</td><td>discussiontools</td><td>advanced-show</td><td> 1</td></tr>\n",
       "\t<tr><td>2020-10-08</td><td>svwiki</td><td>wikitext    </td><td>desktop</td><td>dtReply</td><td>discussiontools</td><td>advanced-show</td><td> 1</td></tr>\n",
       "\t<tr><td>2020-10-09</td><td>svwiki</td><td>wikitext    </td><td>desktop</td><td>dtReply</td><td>discussiontools</td><td>advanced-show</td><td> 1</td></tr>\n",
       "</tbody>\n",
       "</table>\n"
      ],
      "text/latex": [
       "A data.frame: 46 × 8\n",
       "\\begin{tabular}{llllllll}\n",
       " date & wiki & editor\\_interface & platform & feature & integration & action & events\\\\\n",
       " <date> & <chr> & <chr> & <chr> & <chr> & <chr> & <chr> & <int>\\\\\n",
       "\\hline\n",
       "\t 2020-09-17 & arwiki & visualeditor & desktop & dtReply & discussiontools & advanced-show &  1\\\\\n",
       "\t 2020-09-17 & hewiki & wikitext     & desktop & dtReply & discussiontools & advanced-show &  1\\\\\n",
       "\t 2020-09-18 & jawiki & wikitext     & desktop & dtReply & discussiontools & advanced-show &  1\\\\\n",
       "\t 2020-09-18 & zhwiki & wikitext     & desktop & dtReply & discussiontools & advanced-show &  1\\\\\n",
       "\t 2020-09-18 & frwiki & wikitext     & desktop & dtReply & discussiontools & advanced-show &  1\\\\\n",
       "\t 2020-09-18 & kowiki & wikitext     & desktop & dtReply & discussiontools & advanced-show &  1\\\\\n",
       "\t 2020-09-19 & enwiki & wikitext     & desktop & dtReply & discussiontools & advanced-show &  1\\\\\n",
       "\t 2020-09-19 & jawiki & wikitext     & desktop & dtReply & discussiontools & advanced-show &  1\\\\\n",
       "\t 2020-09-20 & huwiki & wikitext     & desktop & dtReply & discussiontools & advanced-show &  2\\\\\n",
       "\t 2020-09-20 & huwiki & visualeditor & desktop & dtReply & discussiontools & advanced-show &  1\\\\\n",
       "\t 2020-09-20 & kowiki & wikitext     & desktop & dtReply & discussiontools & advanced-show &  1\\\\\n",
       "\t 2020-09-21 & frwiki & visualeditor & desktop & dtReply & discussiontools & advanced-show &  1\\\\\n",
       "\t 2020-09-21 & arwiki & wikitext     & desktop & dtReply & discussiontools & advanced-show &  2\\\\\n",
       "\t 2020-09-22 & jawiki & wikitext     & desktop & dtReply & discussiontools & advanced-show &  1\\\\\n",
       "\t 2020-09-23 & nlwiki & visualeditor & desktop & dtReply & discussiontools & advanced-show &  1\\\\\n",
       "\t 2020-09-23 & viwiki & visualeditor & desktop & dtReply & discussiontools & advanced-show &  1\\\\\n",
       "\t 2020-09-24 & huwiki & wikitext     & desktop & dtReply & discussiontools & advanced-show &  1\\\\\n",
       "\t 2020-09-24 & cswiki & visualeditor & desktop & dtReply & discussiontools & advanced-show &  1\\\\\n",
       "\t 2020-09-25 & arwiki & visualeditor & desktop & dtReply & discussiontools & advanced-show &  1\\\\\n",
       "\t 2020-09-25 & nlwiki & wikitext     & desktop & dtReply & discussiontools & advanced-show &  1\\\\\n",
       "\t 2020-09-25 & arwiki & wikitext     & desktop & dtReply & discussiontools & advanced-show &  1\\\\\n",
       "\t 2020-09-27 & huwiki & wikitext     & desktop & dtReply & discussiontools & advanced-show &  1\\\\\n",
       "\t 2020-09-27 & svwiki & wikitext     & desktop & dtReply & discussiontools & advanced-show &  3\\\\\n",
       "\t 2020-09-28 & svwiki & wikitext     & desktop & dtReply & discussiontools & advanced-show &  5\\\\\n",
       "\t 2020-09-29 & enwiki & visualeditor & desktop & dtReply & discussiontools & advanced-show &  6\\\\\n",
       "\t 2020-09-29 & frwiki & visualeditor & desktop & dtReply & discussiontools & advanced-show &  9\\\\\n",
       "\t 2020-09-29 & nlwiki & wikitext     & desktop & dtReply & discussiontools & advanced-show &  1\\\\\n",
       "\t 2020-09-29 & svwiki & wikitext     & desktop & dtReply & discussiontools & advanced-show & 15\\\\\n",
       "\t 2020-09-30 & svwiki & wikitext     & desktop & dtReply & discussiontools & advanced-show &  3\\\\\n",
       "\t 2020-10-01 & zhwiki & visualeditor & desktop & dtReply & discussiontools & advanced-show &  1\\\\\n",
       "\t 2020-10-01 & svwiki & wikitext     & desktop & dtReply & discussiontools & advanced-show &  1\\\\\n",
       "\t 2020-10-02 & huwiki & wikitext     & desktop & dtReply & discussiontools & advanced-show &  1\\\\\n",
       "\t 2020-10-02 & cswiki & wikitext     & desktop & dtReply & discussiontools & advanced-show &  1\\\\\n",
       "\t 2020-10-03 & kowiki & wikitext     & desktop & dtReply & discussiontools & advanced-show &  1\\\\\n",
       "\t 2020-10-03 & svwiki & wikitext     & desktop & dtReply & discussiontools & advanced-show &  1\\\\\n",
       "\t 2020-10-04 & frwiki & wikitext     & desktop & dtReply & discussiontools & advanced-show &  1\\\\\n",
       "\t 2020-10-05 & kowiki & wikitext     & desktop & dtReply & discussiontools & advanced-show &  1\\\\\n",
       "\t 2020-10-05 & arwiki & visualeditor & desktop & dtReply & discussiontools & advanced-show &  1\\\\\n",
       "\t 2020-10-05 & nlwiki & wikitext     & desktop & dtReply & discussiontools & advanced-show &  1\\\\\n",
       "\t 2020-10-06 & nlwiki & wikitext     & desktop & dtReply & discussiontools & advanced-show &  2\\\\\n",
       "\t 2020-10-06 & huwiki & wikitext     & desktop & dtReply & discussiontools & advanced-show &  1\\\\\n",
       "\t 2020-10-07 & frwiki & wikitext     & desktop & dtReply & discussiontools & advanced-show &  2\\\\\n",
       "\t 2020-10-08 & arwiki & visualeditor & desktop & dtReply & discussiontools & advanced-show &  1\\\\\n",
       "\t 2020-10-08 & nlwiki & wikitext     & desktop & dtReply & discussiontools & advanced-show &  1\\\\\n",
       "\t 2020-10-08 & svwiki & wikitext     & desktop & dtReply & discussiontools & advanced-show &  1\\\\\n",
       "\t 2020-10-09 & svwiki & wikitext     & desktop & dtReply & discussiontools & advanced-show &  1\\\\\n",
       "\\end{tabular}\n"
      ],
      "text/markdown": [
       "\n",
       "A data.frame: 46 × 8\n",
       "\n",
       "| date &lt;date&gt; | wiki &lt;chr&gt; | editor_interface &lt;chr&gt; | platform &lt;chr&gt; | feature &lt;chr&gt; | integration &lt;chr&gt; | action &lt;chr&gt; | events &lt;int&gt; |\n",
       "|---|---|---|---|---|---|---|---|\n",
       "| 2020-09-17 | arwiki | visualeditor | desktop | dtReply | discussiontools | advanced-show |  1 |\n",
       "| 2020-09-17 | hewiki | wikitext     | desktop | dtReply | discussiontools | advanced-show |  1 |\n",
       "| 2020-09-18 | jawiki | wikitext     | desktop | dtReply | discussiontools | advanced-show |  1 |\n",
       "| 2020-09-18 | zhwiki | wikitext     | desktop | dtReply | discussiontools | advanced-show |  1 |\n",
       "| 2020-09-18 | frwiki | wikitext     | desktop | dtReply | discussiontools | advanced-show |  1 |\n",
       "| 2020-09-18 | kowiki | wikitext     | desktop | dtReply | discussiontools | advanced-show |  1 |\n",
       "| 2020-09-19 | enwiki | wikitext     | desktop | dtReply | discussiontools | advanced-show |  1 |\n",
       "| 2020-09-19 | jawiki | wikitext     | desktop | dtReply | discussiontools | advanced-show |  1 |\n",
       "| 2020-09-20 | huwiki | wikitext     | desktop | dtReply | discussiontools | advanced-show |  2 |\n",
       "| 2020-09-20 | huwiki | visualeditor | desktop | dtReply | discussiontools | advanced-show |  1 |\n",
       "| 2020-09-20 | kowiki | wikitext     | desktop | dtReply | discussiontools | advanced-show |  1 |\n",
       "| 2020-09-21 | frwiki | visualeditor | desktop | dtReply | discussiontools | advanced-show |  1 |\n",
       "| 2020-09-21 | arwiki | wikitext     | desktop | dtReply | discussiontools | advanced-show |  2 |\n",
       "| 2020-09-22 | jawiki | wikitext     | desktop | dtReply | discussiontools | advanced-show |  1 |\n",
       "| 2020-09-23 | nlwiki | visualeditor | desktop | dtReply | discussiontools | advanced-show |  1 |\n",
       "| 2020-09-23 | viwiki | visualeditor | desktop | dtReply | discussiontools | advanced-show |  1 |\n",
       "| 2020-09-24 | huwiki | wikitext     | desktop | dtReply | discussiontools | advanced-show |  1 |\n",
       "| 2020-09-24 | cswiki | visualeditor | desktop | dtReply | discussiontools | advanced-show |  1 |\n",
       "| 2020-09-25 | arwiki | visualeditor | desktop | dtReply | discussiontools | advanced-show |  1 |\n",
       "| 2020-09-25 | nlwiki | wikitext     | desktop | dtReply | discussiontools | advanced-show |  1 |\n",
       "| 2020-09-25 | arwiki | wikitext     | desktop | dtReply | discussiontools | advanced-show |  1 |\n",
       "| 2020-09-27 | huwiki | wikitext     | desktop | dtReply | discussiontools | advanced-show |  1 |\n",
       "| 2020-09-27 | svwiki | wikitext     | desktop | dtReply | discussiontools | advanced-show |  3 |\n",
       "| 2020-09-28 | svwiki | wikitext     | desktop | dtReply | discussiontools | advanced-show |  5 |\n",
       "| 2020-09-29 | enwiki | visualeditor | desktop | dtReply | discussiontools | advanced-show |  6 |\n",
       "| 2020-09-29 | frwiki | visualeditor | desktop | dtReply | discussiontools | advanced-show |  9 |\n",
       "| 2020-09-29 | nlwiki | wikitext     | desktop | dtReply | discussiontools | advanced-show |  1 |\n",
       "| 2020-09-29 | svwiki | wikitext     | desktop | dtReply | discussiontools | advanced-show | 15 |\n",
       "| 2020-09-30 | svwiki | wikitext     | desktop | dtReply | discussiontools | advanced-show |  3 |\n",
       "| 2020-10-01 | zhwiki | visualeditor | desktop | dtReply | discussiontools | advanced-show |  1 |\n",
       "| 2020-10-01 | svwiki | wikitext     | desktop | dtReply | discussiontools | advanced-show |  1 |\n",
       "| 2020-10-02 | huwiki | wikitext     | desktop | dtReply | discussiontools | advanced-show |  1 |\n",
       "| 2020-10-02 | cswiki | wikitext     | desktop | dtReply | discussiontools | advanced-show |  1 |\n",
       "| 2020-10-03 | kowiki | wikitext     | desktop | dtReply | discussiontools | advanced-show |  1 |\n",
       "| 2020-10-03 | svwiki | wikitext     | desktop | dtReply | discussiontools | advanced-show |  1 |\n",
       "| 2020-10-04 | frwiki | wikitext     | desktop | dtReply | discussiontools | advanced-show |  1 |\n",
       "| 2020-10-05 | kowiki | wikitext     | desktop | dtReply | discussiontools | advanced-show |  1 |\n",
       "| 2020-10-05 | arwiki | visualeditor | desktop | dtReply | discussiontools | advanced-show |  1 |\n",
       "| 2020-10-05 | nlwiki | wikitext     | desktop | dtReply | discussiontools | advanced-show |  1 |\n",
       "| 2020-10-06 | nlwiki | wikitext     | desktop | dtReply | discussiontools | advanced-show |  2 |\n",
       "| 2020-10-06 | huwiki | wikitext     | desktop | dtReply | discussiontools | advanced-show |  1 |\n",
       "| 2020-10-07 | frwiki | wikitext     | desktop | dtReply | discussiontools | advanced-show |  2 |\n",
       "| 2020-10-08 | arwiki | visualeditor | desktop | dtReply | discussiontools | advanced-show |  1 |\n",
       "| 2020-10-08 | nlwiki | wikitext     | desktop | dtReply | discussiontools | advanced-show |  1 |\n",
       "| 2020-10-08 | svwiki | wikitext     | desktop | dtReply | discussiontools | advanced-show |  1 |\n",
       "| 2020-10-09 | svwiki | wikitext     | desktop | dtReply | discussiontools | advanced-show |  1 |\n",
       "\n"
      ],
      "text/plain": [
       "   date       wiki   editor_interface platform feature integration    \n",
       "1  2020-09-17 arwiki visualeditor     desktop  dtReply discussiontools\n",
       "2  2020-09-17 hewiki wikitext         desktop  dtReply discussiontools\n",
       "3  2020-09-18 jawiki wikitext         desktop  dtReply discussiontools\n",
       "4  2020-09-18 zhwiki wikitext         desktop  dtReply discussiontools\n",
       "5  2020-09-18 frwiki wikitext         desktop  dtReply discussiontools\n",
       "6  2020-09-18 kowiki wikitext         desktop  dtReply discussiontools\n",
       "7  2020-09-19 enwiki wikitext         desktop  dtReply discussiontools\n",
       "8  2020-09-19 jawiki wikitext         desktop  dtReply discussiontools\n",
       "9  2020-09-20 huwiki wikitext         desktop  dtReply discussiontools\n",
       "10 2020-09-20 huwiki visualeditor     desktop  dtReply discussiontools\n",
       "11 2020-09-20 kowiki wikitext         desktop  dtReply discussiontools\n",
       "12 2020-09-21 frwiki visualeditor     desktop  dtReply discussiontools\n",
       "13 2020-09-21 arwiki wikitext         desktop  dtReply discussiontools\n",
       "14 2020-09-22 jawiki wikitext         desktop  dtReply discussiontools\n",
       "15 2020-09-23 nlwiki visualeditor     desktop  dtReply discussiontools\n",
       "16 2020-09-23 viwiki visualeditor     desktop  dtReply discussiontools\n",
       "17 2020-09-24 huwiki wikitext         desktop  dtReply discussiontools\n",
       "18 2020-09-24 cswiki visualeditor     desktop  dtReply discussiontools\n",
       "19 2020-09-25 arwiki visualeditor     desktop  dtReply discussiontools\n",
       "20 2020-09-25 nlwiki wikitext         desktop  dtReply discussiontools\n",
       "21 2020-09-25 arwiki wikitext         desktop  dtReply discussiontools\n",
       "22 2020-09-27 huwiki wikitext         desktop  dtReply discussiontools\n",
       "23 2020-09-27 svwiki wikitext         desktop  dtReply discussiontools\n",
       "24 2020-09-28 svwiki wikitext         desktop  dtReply discussiontools\n",
       "25 2020-09-29 enwiki visualeditor     desktop  dtReply discussiontools\n",
       "26 2020-09-29 frwiki visualeditor     desktop  dtReply discussiontools\n",
       "27 2020-09-29 nlwiki wikitext         desktop  dtReply discussiontools\n",
       "28 2020-09-29 svwiki wikitext         desktop  dtReply discussiontools\n",
       "29 2020-09-30 svwiki wikitext         desktop  dtReply discussiontools\n",
       "30 2020-10-01 zhwiki visualeditor     desktop  dtReply discussiontools\n",
       "31 2020-10-01 svwiki wikitext         desktop  dtReply discussiontools\n",
       "32 2020-10-02 huwiki wikitext         desktop  dtReply discussiontools\n",
       "33 2020-10-02 cswiki wikitext         desktop  dtReply discussiontools\n",
       "34 2020-10-03 kowiki wikitext         desktop  dtReply discussiontools\n",
       "35 2020-10-03 svwiki wikitext         desktop  dtReply discussiontools\n",
       "36 2020-10-04 frwiki wikitext         desktop  dtReply discussiontools\n",
       "37 2020-10-05 kowiki wikitext         desktop  dtReply discussiontools\n",
       "38 2020-10-05 arwiki visualeditor     desktop  dtReply discussiontools\n",
       "39 2020-10-05 nlwiki wikitext         desktop  dtReply discussiontools\n",
       "40 2020-10-06 nlwiki wikitext         desktop  dtReply discussiontools\n",
       "41 2020-10-06 huwiki wikitext         desktop  dtReply discussiontools\n",
       "42 2020-10-07 frwiki wikitext         desktop  dtReply discussiontools\n",
       "43 2020-10-08 arwiki visualeditor     desktop  dtReply discussiontools\n",
       "44 2020-10-08 nlwiki wikitext         desktop  dtReply discussiontools\n",
       "45 2020-10-08 svwiki wikitext         desktop  dtReply discussiontools\n",
       "46 2020-10-09 svwiki wikitext         desktop  dtReply discussiontools\n",
       "   action        events\n",
       "1  advanced-show  1    \n",
       "2  advanced-show  1    \n",
       "3  advanced-show  1    \n",
       "4  advanced-show  1    \n",
       "5  advanced-show  1    \n",
       "6  advanced-show  1    \n",
       "7  advanced-show  1    \n",
       "8  advanced-show  1    \n",
       "9  advanced-show  2    \n",
       "10 advanced-show  1    \n",
       "11 advanced-show  1    \n",
       "12 advanced-show  1    \n",
       "13 advanced-show  2    \n",
       "14 advanced-show  1    \n",
       "15 advanced-show  1    \n",
       "16 advanced-show  1    \n",
       "17 advanced-show  1    \n",
       "18 advanced-show  1    \n",
       "19 advanced-show  1    \n",
       "20 advanced-show  1    \n",
       "21 advanced-show  1    \n",
       "22 advanced-show  1    \n",
       "23 advanced-show  3    \n",
       "24 advanced-show  5    \n",
       "25 advanced-show  6    \n",
       "26 advanced-show  9    \n",
       "27 advanced-show  1    \n",
       "28 advanced-show 15    \n",
       "29 advanced-show  3    \n",
       "30 advanced-show  1    \n",
       "31 advanced-show  1    \n",
       "32 advanced-show  1    \n",
       "33 advanced-show  1    \n",
       "34 advanced-show  1    \n",
       "35 advanced-show  1    \n",
       "36 advanced-show  1    \n",
       "37 advanced-show  1    \n",
       "38 advanced-show  1    \n",
       "39 advanced-show  1    \n",
       "40 advanced-show  2    \n",
       "41 advanced-show  1    \n",
       "42 advanced-show  2    \n",
       "43 advanced-show  1    \n",
       "44 advanced-show  1    \n",
       "45 advanced-show  1    \n",
       "46 advanced-show  1    "
      ]
     },
     "metadata": {},
     "output_type": "display_data"
    }
   ],
   "source": [
    "advanced_show_events <- collect_vefu_events %>%\n",
    "    filter(action == 'advanced-show') %>%\n",
    "    arrange(date)\n",
    "\n",
    "advanced_show_events "
   ]
  },
  {
   "cell_type": "markdown",
   "metadata": {},
   "source": [
    "Events are being recorded as early as 17 September 2020, which was the date of deployment. "
   ]
  },
  {
   "cell_type": "markdown",
   "metadata": {},
   "source": [
    "Confirmed that advanced show events are only being recorded for dtreply feature and discussiontools integration as expected. Events are recorded for both wikitext and visualeditor."
   ]
  },
  {
   "cell_type": "code",
   "execution_count": 48,
   "metadata": {},
   "outputs": [
    {
     "data": {
      "text/html": [
       "<table>\n",
       "<caption>A data.frame: 17 × 8</caption>\n",
       "<thead>\n",
       "\t<tr><th scope=col>date</th><th scope=col>wiki</th><th scope=col>editor_interface</th><th scope=col>platform</th><th scope=col>feature</th><th scope=col>integration</th><th scope=col>action</th><th scope=col>events</th></tr>\n",
       "\t<tr><th scope=col>&lt;date&gt;</th><th scope=col>&lt;chr&gt;</th><th scope=col>&lt;chr&gt;</th><th scope=col>&lt;chr&gt;</th><th scope=col>&lt;chr&gt;</th><th scope=col>&lt;chr&gt;</th><th scope=col>&lt;chr&gt;</th><th scope=col>&lt;int&gt;</th></tr>\n",
       "</thead>\n",
       "<tbody>\n",
       "\t<tr><td>2020-09-17</td><td>arwiki</td><td>visualeditor</td><td>desktop</td><td>dtReply</td><td>discussiontools</td><td>advanced-hide</td><td> 1</td></tr>\n",
       "\t<tr><td>2020-09-17</td><td>hewiki</td><td>wikitext    </td><td>desktop</td><td>dtReply</td><td>discussiontools</td><td>advanced-hide</td><td> 1</td></tr>\n",
       "\t<tr><td>2020-09-18</td><td>jawiki</td><td>wikitext    </td><td>desktop</td><td>dtReply</td><td>discussiontools</td><td>advanced-hide</td><td> 1</td></tr>\n",
       "\t<tr><td>2020-09-18</td><td>zhwiki</td><td>wikitext    </td><td>desktop</td><td>dtReply</td><td>discussiontools</td><td>advanced-hide</td><td> 1</td></tr>\n",
       "\t<tr><td>2020-09-19</td><td>jawiki</td><td>wikitext    </td><td>desktop</td><td>dtReply</td><td>discussiontools</td><td>advanced-hide</td><td> 1</td></tr>\n",
       "\t<tr><td>2020-09-20</td><td>huwiki</td><td>wikitext    </td><td>desktop</td><td>dtReply</td><td>discussiontools</td><td>advanced-hide</td><td> 2</td></tr>\n",
       "\t<tr><td>2020-09-21</td><td>arwiki</td><td>wikitext    </td><td>desktop</td><td>dtReply</td><td>discussiontools</td><td>advanced-hide</td><td> 1</td></tr>\n",
       "\t<tr><td>2020-09-28</td><td>svwiki</td><td>wikitext    </td><td>desktop</td><td>dtReply</td><td>discussiontools</td><td>advanced-hide</td><td> 5</td></tr>\n",
       "\t<tr><td>2020-09-29</td><td>enwiki</td><td>visualeditor</td><td>desktop</td><td>dtReply</td><td>discussiontools</td><td>advanced-hide</td><td> 6</td></tr>\n",
       "\t<tr><td>2020-09-29</td><td>frwiki</td><td>visualeditor</td><td>desktop</td><td>dtReply</td><td>discussiontools</td><td>advanced-hide</td><td> 9</td></tr>\n",
       "\t<tr><td>2020-09-29</td><td>svwiki</td><td>wikitext    </td><td>desktop</td><td>dtReply</td><td>discussiontools</td><td>advanced-hide</td><td>12</td></tr>\n",
       "\t<tr><td>2020-10-01</td><td>zhwiki</td><td>visualeditor</td><td>desktop</td><td>dtReply</td><td>discussiontools</td><td>advanced-hide</td><td> 1</td></tr>\n",
       "\t<tr><td>2020-10-02</td><td>cswiki</td><td>wikitext    </td><td>desktop</td><td>dtReply</td><td>discussiontools</td><td>advanced-hide</td><td> 1</td></tr>\n",
       "\t<tr><td>2020-10-04</td><td>frwiki</td><td>wikitext    </td><td>desktop</td><td>dtReply</td><td>discussiontools</td><td>advanced-hide</td><td> 1</td></tr>\n",
       "\t<tr><td>2020-10-05</td><td>arwiki</td><td>visualeditor</td><td>desktop</td><td>dtReply</td><td>discussiontools</td><td>advanced-hide</td><td> 1</td></tr>\n",
       "\t<tr><td>2020-10-05</td><td>nlwiki</td><td>wikitext    </td><td>desktop</td><td>dtReply</td><td>discussiontools</td><td>advanced-hide</td><td> 1</td></tr>\n",
       "\t<tr><td>2020-10-07</td><td>frwiki</td><td>wikitext    </td><td>desktop</td><td>dtReply</td><td>discussiontools</td><td>advanced-hide</td><td> 2</td></tr>\n",
       "</tbody>\n",
       "</table>\n"
      ],
      "text/latex": [
       "A data.frame: 17 × 8\n",
       "\\begin{tabular}{llllllll}\n",
       " date & wiki & editor\\_interface & platform & feature & integration & action & events\\\\\n",
       " <date> & <chr> & <chr> & <chr> & <chr> & <chr> & <chr> & <int>\\\\\n",
       "\\hline\n",
       "\t 2020-09-17 & arwiki & visualeditor & desktop & dtReply & discussiontools & advanced-hide &  1\\\\\n",
       "\t 2020-09-17 & hewiki & wikitext     & desktop & dtReply & discussiontools & advanced-hide &  1\\\\\n",
       "\t 2020-09-18 & jawiki & wikitext     & desktop & dtReply & discussiontools & advanced-hide &  1\\\\\n",
       "\t 2020-09-18 & zhwiki & wikitext     & desktop & dtReply & discussiontools & advanced-hide &  1\\\\\n",
       "\t 2020-09-19 & jawiki & wikitext     & desktop & dtReply & discussiontools & advanced-hide &  1\\\\\n",
       "\t 2020-09-20 & huwiki & wikitext     & desktop & dtReply & discussiontools & advanced-hide &  2\\\\\n",
       "\t 2020-09-21 & arwiki & wikitext     & desktop & dtReply & discussiontools & advanced-hide &  1\\\\\n",
       "\t 2020-09-28 & svwiki & wikitext     & desktop & dtReply & discussiontools & advanced-hide &  5\\\\\n",
       "\t 2020-09-29 & enwiki & visualeditor & desktop & dtReply & discussiontools & advanced-hide &  6\\\\\n",
       "\t 2020-09-29 & frwiki & visualeditor & desktop & dtReply & discussiontools & advanced-hide &  9\\\\\n",
       "\t 2020-09-29 & svwiki & wikitext     & desktop & dtReply & discussiontools & advanced-hide & 12\\\\\n",
       "\t 2020-10-01 & zhwiki & visualeditor & desktop & dtReply & discussiontools & advanced-hide &  1\\\\\n",
       "\t 2020-10-02 & cswiki & wikitext     & desktop & dtReply & discussiontools & advanced-hide &  1\\\\\n",
       "\t 2020-10-04 & frwiki & wikitext     & desktop & dtReply & discussiontools & advanced-hide &  1\\\\\n",
       "\t 2020-10-05 & arwiki & visualeditor & desktop & dtReply & discussiontools & advanced-hide &  1\\\\\n",
       "\t 2020-10-05 & nlwiki & wikitext     & desktop & dtReply & discussiontools & advanced-hide &  1\\\\\n",
       "\t 2020-10-07 & frwiki & wikitext     & desktop & dtReply & discussiontools & advanced-hide &  2\\\\\n",
       "\\end{tabular}\n"
      ],
      "text/markdown": [
       "\n",
       "A data.frame: 17 × 8\n",
       "\n",
       "| date &lt;date&gt; | wiki &lt;chr&gt; | editor_interface &lt;chr&gt; | platform &lt;chr&gt; | feature &lt;chr&gt; | integration &lt;chr&gt; | action &lt;chr&gt; | events &lt;int&gt; |\n",
       "|---|---|---|---|---|---|---|---|\n",
       "| 2020-09-17 | arwiki | visualeditor | desktop | dtReply | discussiontools | advanced-hide |  1 |\n",
       "| 2020-09-17 | hewiki | wikitext     | desktop | dtReply | discussiontools | advanced-hide |  1 |\n",
       "| 2020-09-18 | jawiki | wikitext     | desktop | dtReply | discussiontools | advanced-hide |  1 |\n",
       "| 2020-09-18 | zhwiki | wikitext     | desktop | dtReply | discussiontools | advanced-hide |  1 |\n",
       "| 2020-09-19 | jawiki | wikitext     | desktop | dtReply | discussiontools | advanced-hide |  1 |\n",
       "| 2020-09-20 | huwiki | wikitext     | desktop | dtReply | discussiontools | advanced-hide |  2 |\n",
       "| 2020-09-21 | arwiki | wikitext     | desktop | dtReply | discussiontools | advanced-hide |  1 |\n",
       "| 2020-09-28 | svwiki | wikitext     | desktop | dtReply | discussiontools | advanced-hide |  5 |\n",
       "| 2020-09-29 | enwiki | visualeditor | desktop | dtReply | discussiontools | advanced-hide |  6 |\n",
       "| 2020-09-29 | frwiki | visualeditor | desktop | dtReply | discussiontools | advanced-hide |  9 |\n",
       "| 2020-09-29 | svwiki | wikitext     | desktop | dtReply | discussiontools | advanced-hide | 12 |\n",
       "| 2020-10-01 | zhwiki | visualeditor | desktop | dtReply | discussiontools | advanced-hide |  1 |\n",
       "| 2020-10-02 | cswiki | wikitext     | desktop | dtReply | discussiontools | advanced-hide |  1 |\n",
       "| 2020-10-04 | frwiki | wikitext     | desktop | dtReply | discussiontools | advanced-hide |  1 |\n",
       "| 2020-10-05 | arwiki | visualeditor | desktop | dtReply | discussiontools | advanced-hide |  1 |\n",
       "| 2020-10-05 | nlwiki | wikitext     | desktop | dtReply | discussiontools | advanced-hide |  1 |\n",
       "| 2020-10-07 | frwiki | wikitext     | desktop | dtReply | discussiontools | advanced-hide |  2 |\n",
       "\n"
      ],
      "text/plain": [
       "   date       wiki   editor_interface platform feature integration    \n",
       "1  2020-09-17 arwiki visualeditor     desktop  dtReply discussiontools\n",
       "2  2020-09-17 hewiki wikitext         desktop  dtReply discussiontools\n",
       "3  2020-09-18 jawiki wikitext         desktop  dtReply discussiontools\n",
       "4  2020-09-18 zhwiki wikitext         desktop  dtReply discussiontools\n",
       "5  2020-09-19 jawiki wikitext         desktop  dtReply discussiontools\n",
       "6  2020-09-20 huwiki wikitext         desktop  dtReply discussiontools\n",
       "7  2020-09-21 arwiki wikitext         desktop  dtReply discussiontools\n",
       "8  2020-09-28 svwiki wikitext         desktop  dtReply discussiontools\n",
       "9  2020-09-29 enwiki visualeditor     desktop  dtReply discussiontools\n",
       "10 2020-09-29 frwiki visualeditor     desktop  dtReply discussiontools\n",
       "11 2020-09-29 svwiki wikitext         desktop  dtReply discussiontools\n",
       "12 2020-10-01 zhwiki visualeditor     desktop  dtReply discussiontools\n",
       "13 2020-10-02 cswiki wikitext         desktop  dtReply discussiontools\n",
       "14 2020-10-04 frwiki wikitext         desktop  dtReply discussiontools\n",
       "15 2020-10-05 arwiki visualeditor     desktop  dtReply discussiontools\n",
       "16 2020-10-05 nlwiki wikitext         desktop  dtReply discussiontools\n",
       "17 2020-10-07 frwiki wikitext         desktop  dtReply discussiontools\n",
       "   action        events\n",
       "1  advanced-hide  1    \n",
       "2  advanced-hide  1    \n",
       "3  advanced-hide  1    \n",
       "4  advanced-hide  1    \n",
       "5  advanced-hide  1    \n",
       "6  advanced-hide  2    \n",
       "7  advanced-hide  1    \n",
       "8  advanced-hide  5    \n",
       "9  advanced-hide  6    \n",
       "10 advanced-hide  9    \n",
       "11 advanced-hide 12    \n",
       "12 advanced-hide  1    \n",
       "13 advanced-hide  1    \n",
       "14 advanced-hide  1    \n",
       "15 advanced-hide  1    \n",
       "16 advanced-hide  1    \n",
       "17 advanced-hide  2    "
      ]
     },
     "metadata": {},
     "output_type": "display_data"
    }
   ],
   "source": [
    "advanced_close_events <- collect_vefu_events %>%\n",
    "    filter(action == 'advanced-hide') %>%\n",
    "    arrange(date)\n",
    "\n",
    "advanced_close_events "
   ]
  },
  {
   "cell_type": "markdown",
   "metadata": {},
   "source": [
    "Confirmed there are fewer advanced hide events compared to advanced show events as expected. Advanced hide events also start coming in on 17 September 2020 (date of deployment)."
   ]
  },
  {
   "cell_type": "markdown",
   "metadata": {},
   "source": [
    "Confirmed that advanced hide events are only being recorded for dtreply feature and discussiontools integration as expected. Events are recorded for both wikitext and visualeditor."
   ]
  },
  {
   "cell_type": "markdown",
   "metadata": {},
   "source": [
    "## Total Events"
   ]
  },
  {
   "cell_type": "code",
   "execution_count": null,
   "metadata": {},
   "outputs": [],
   "source": [
    "Review total events to confirm there are fewer advanced-hide events to advanced-show events."
   ]
  },
  {
   "cell_type": "code",
   "execution_count": 49,
   "metadata": {},
   "outputs": [
    {
     "name": "stderr",
     "output_type": "stream",
     "text": [
      "`summarise()` ungrouping output (override with `.groups` argument)\n",
      "\n"
     ]
    },
    {
     "data": {
      "text/html": [
       "<table>\n",
       "<caption>A tibble: 2 × 2</caption>\n",
       "<thead>\n",
       "\t<tr><th scope=col>action</th><th scope=col>total_events</th></tr>\n",
       "\t<tr><th scope=col>&lt;chr&gt;</th><th scope=col>&lt;int&gt;</th></tr>\n",
       "</thead>\n",
       "<tbody>\n",
       "\t<tr><td>advanced-hide</td><td>47</td></tr>\n",
       "\t<tr><td>advanced-show</td><td>85</td></tr>\n",
       "</tbody>\n",
       "</table>\n"
      ],
      "text/latex": [
       "A tibble: 2 × 2\n",
       "\\begin{tabular}{ll}\n",
       " action & total\\_events\\\\\n",
       " <chr> & <int>\\\\\n",
       "\\hline\n",
       "\t advanced-hide & 47\\\\\n",
       "\t advanced-show & 85\\\\\n",
       "\\end{tabular}\n"
      ],
      "text/markdown": [
       "\n",
       "A tibble: 2 × 2\n",
       "\n",
       "| action &lt;chr&gt; | total_events &lt;int&gt; |\n",
       "|---|---|\n",
       "| advanced-hide | 47 |\n",
       "| advanced-show | 85 |\n",
       "\n"
      ],
      "text/plain": [
       "  action        total_events\n",
       "1 advanced-hide 47          \n",
       "2 advanced-show 85          "
      ]
     },
     "metadata": {},
     "output_type": "display_data"
    }
   ],
   "source": [
    "total_advanced_events <- collect_vefu_events %>%\n",
    "    filter(action == 'advanced-hide' |\n",
    "          action == 'advanced-show') %>%\n",
    "    group_by(action)  %>%\n",
    "    summarise(total_events = sum(events))\n",
    "\n",
    "total_advanced_events "
   ]
  },
  {
   "cell_type": "markdown",
   "metadata": {},
   "source": [
    "Confirmed that there are more advanced show events compared to advanced hide. As of 9 Oct 2020, there have been 85 advanced-show events and 47 advanced-hide events (132 advanced affordance events total)"
   ]
  },
  {
   "cell_type": "markdown",
   "metadata": {},
   "source": [
    "There are no events in any other platform other than \"Desktop\" since this feature is only available on desktop."
   ]
  },
  {
   "cell_type": "markdown",
   "metadata": {},
   "source": [
    "## Event Counts by Wiki"
   ]
  },
  {
   "cell_type": "code",
   "execution_count": 50,
   "metadata": {},
   "outputs": [
    {
     "name": "stderr",
     "output_type": "stream",
     "text": [
      "`summarise()` regrouping output by 'action' (override with `.groups` argument)\n",
      "\n"
     ]
    },
    {
     "data": {
      "text/html": [
       "<table>\n",
       "<caption>A grouped_df: 22 × 3</caption>\n",
       "<thead>\n",
       "\t<tr><th scope=col>action</th><th scope=col>wiki</th><th scope=col>total_events</th></tr>\n",
       "\t<tr><th scope=col>&lt;chr&gt;</th><th scope=col>&lt;chr&gt;</th><th scope=col>&lt;int&gt;</th></tr>\n",
       "</thead>\n",
       "<tbody>\n",
       "\t<tr><td>advanced-hide</td><td>arwiki</td><td> 3</td></tr>\n",
       "\t<tr><td>advanced-show</td><td>arwiki</td><td> 7</td></tr>\n",
       "\t<tr><td>advanced-hide</td><td>cswiki</td><td> 1</td></tr>\n",
       "\t<tr><td>advanced-show</td><td>cswiki</td><td> 2</td></tr>\n",
       "\t<tr><td>advanced-hide</td><td>enwiki</td><td> 6</td></tr>\n",
       "\t<tr><td>advanced-show</td><td>enwiki</td><td> 7</td></tr>\n",
       "\t<tr><td>advanced-hide</td><td>frwiki</td><td>12</td></tr>\n",
       "\t<tr><td>advanced-show</td><td>frwiki</td><td>14</td></tr>\n",
       "\t<tr><td>advanced-hide</td><td>hewiki</td><td> 1</td></tr>\n",
       "\t<tr><td>advanced-show</td><td>hewiki</td><td> 1</td></tr>\n",
       "\t<tr><td>advanced-hide</td><td>huwiki</td><td> 2</td></tr>\n",
       "\t<tr><td>advanced-show</td><td>huwiki</td><td> 7</td></tr>\n",
       "\t<tr><td>advanced-hide</td><td>jawiki</td><td> 2</td></tr>\n",
       "\t<tr><td>advanced-show</td><td>jawiki</td><td> 3</td></tr>\n",
       "\t<tr><td>advanced-show</td><td>kowiki</td><td> 4</td></tr>\n",
       "\t<tr><td>advanced-hide</td><td>nlwiki</td><td> 1</td></tr>\n",
       "\t<tr><td>advanced-show</td><td>nlwiki</td><td> 7</td></tr>\n",
       "\t<tr><td>advanced-hide</td><td>svwiki</td><td>17</td></tr>\n",
       "\t<tr><td>advanced-show</td><td>svwiki</td><td>30</td></tr>\n",
       "\t<tr><td>advanced-show</td><td>viwiki</td><td> 1</td></tr>\n",
       "\t<tr><td>advanced-hide</td><td>zhwiki</td><td> 2</td></tr>\n",
       "\t<tr><td>advanced-show</td><td>zhwiki</td><td> 2</td></tr>\n",
       "</tbody>\n",
       "</table>\n"
      ],
      "text/latex": [
       "A grouped\\_df: 22 × 3\n",
       "\\begin{tabular}{lll}\n",
       " action & wiki & total\\_events\\\\\n",
       " <chr> & <chr> & <int>\\\\\n",
       "\\hline\n",
       "\t advanced-hide & arwiki &  3\\\\\n",
       "\t advanced-show & arwiki &  7\\\\\n",
       "\t advanced-hide & cswiki &  1\\\\\n",
       "\t advanced-show & cswiki &  2\\\\\n",
       "\t advanced-hide & enwiki &  6\\\\\n",
       "\t advanced-show & enwiki &  7\\\\\n",
       "\t advanced-hide & frwiki & 12\\\\\n",
       "\t advanced-show & frwiki & 14\\\\\n",
       "\t advanced-hide & hewiki &  1\\\\\n",
       "\t advanced-show & hewiki &  1\\\\\n",
       "\t advanced-hide & huwiki &  2\\\\\n",
       "\t advanced-show & huwiki &  7\\\\\n",
       "\t advanced-hide & jawiki &  2\\\\\n",
       "\t advanced-show & jawiki &  3\\\\\n",
       "\t advanced-show & kowiki &  4\\\\\n",
       "\t advanced-hide & nlwiki &  1\\\\\n",
       "\t advanced-show & nlwiki &  7\\\\\n",
       "\t advanced-hide & svwiki & 17\\\\\n",
       "\t advanced-show & svwiki & 30\\\\\n",
       "\t advanced-show & viwiki &  1\\\\\n",
       "\t advanced-hide & zhwiki &  2\\\\\n",
       "\t advanced-show & zhwiki &  2\\\\\n",
       "\\end{tabular}\n"
      ],
      "text/markdown": [
       "\n",
       "A grouped_df: 22 × 3\n",
       "\n",
       "| action &lt;chr&gt; | wiki &lt;chr&gt; | total_events &lt;int&gt; |\n",
       "|---|---|---|\n",
       "| advanced-hide | arwiki |  3 |\n",
       "| advanced-show | arwiki |  7 |\n",
       "| advanced-hide | cswiki |  1 |\n",
       "| advanced-show | cswiki |  2 |\n",
       "| advanced-hide | enwiki |  6 |\n",
       "| advanced-show | enwiki |  7 |\n",
       "| advanced-hide | frwiki | 12 |\n",
       "| advanced-show | frwiki | 14 |\n",
       "| advanced-hide | hewiki |  1 |\n",
       "| advanced-show | hewiki |  1 |\n",
       "| advanced-hide | huwiki |  2 |\n",
       "| advanced-show | huwiki |  7 |\n",
       "| advanced-hide | jawiki |  2 |\n",
       "| advanced-show | jawiki |  3 |\n",
       "| advanced-show | kowiki |  4 |\n",
       "| advanced-hide | nlwiki |  1 |\n",
       "| advanced-show | nlwiki |  7 |\n",
       "| advanced-hide | svwiki | 17 |\n",
       "| advanced-show | svwiki | 30 |\n",
       "| advanced-show | viwiki |  1 |\n",
       "| advanced-hide | zhwiki |  2 |\n",
       "| advanced-show | zhwiki |  2 |\n",
       "\n"
      ],
      "text/plain": [
       "   action        wiki   total_events\n",
       "1  advanced-hide arwiki  3          \n",
       "2  advanced-show arwiki  7          \n",
       "3  advanced-hide cswiki  1          \n",
       "4  advanced-show cswiki  2          \n",
       "5  advanced-hide enwiki  6          \n",
       "6  advanced-show enwiki  7          \n",
       "7  advanced-hide frwiki 12          \n",
       "8  advanced-show frwiki 14          \n",
       "9  advanced-hide hewiki  1          \n",
       "10 advanced-show hewiki  1          \n",
       "11 advanced-hide huwiki  2          \n",
       "12 advanced-show huwiki  7          \n",
       "13 advanced-hide jawiki  2          \n",
       "14 advanced-show jawiki  3          \n",
       "15 advanced-show kowiki  4          \n",
       "16 advanced-hide nlwiki  1          \n",
       "17 advanced-show nlwiki  7          \n",
       "18 advanced-hide svwiki 17          \n",
       "19 advanced-show svwiki 30          \n",
       "20 advanced-show viwiki  1          \n",
       "21 advanced-hide zhwiki  2          \n",
       "22 advanced-show zhwiki  2          "
      ]
     },
     "metadata": {},
     "output_type": "display_data"
    }
   ],
   "source": [
    "total_advanced_events_bywiki <- collect_vefu_events %>%\n",
    "    filter(action == 'advanced-hide' |\n",
    "          action == 'advanced-show') %>%\n",
    "    group_by(action, wiki)  %>%\n",
    "    summarise(total_events = sum(events)) %>%\n",
    "    arrange(wiki)\n",
    "\n",
    "total_advanced_events_bywiki"
   ]
  },
  {
   "cell_type": "markdown",
   "metadata": {},
   "source": [
    "Advanced events recorded for arwiki, cswiki, enwiki, frwiki, hewiki, huwiki, jawiki, kowiki, nlwiki, svwiki, viwiki, and zhwiki. A few observations:\n",
    "* For all wikis, there are more advanced-show events then advanced-hide events as expected.\n",
    "* For viwiki and kowiki, there is only one advanced-show event recorded (no advanced-hide event).\n",
    "* Enwiki and HeWiki have events but are not listed on the deployment wikis; however, these are likely wikis where it was enabled for testing using ?dtenable=1.\n"
   ]
  },
  {
   "cell_type": "code",
   "execution_count": 52,
   "metadata": {},
   "outputs": [
    {
     "name": "stderr",
     "output_type": "stream",
     "text": [
      "`summarise()` ungrouping output (override with `.groups` argument)\n",
      "\n"
     ]
    },
    {
     "data": {
      "text/html": [
       "<table>\n",
       "<caption>A tibble: 12 × 2</caption>\n",
       "<thead>\n",
       "\t<tr><th scope=col>wiki</th><th scope=col>total_events</th></tr>\n",
       "\t<tr><th scope=col>&lt;chr&gt;</th><th scope=col>&lt;int&gt;</th></tr>\n",
       "</thead>\n",
       "<tbody>\n",
       "\t<tr><td>viwiki</td><td> 1</td></tr>\n",
       "\t<tr><td>hewiki</td><td> 2</td></tr>\n",
       "\t<tr><td>cswiki</td><td> 3</td></tr>\n",
       "\t<tr><td>kowiki</td><td> 4</td></tr>\n",
       "\t<tr><td>zhwiki</td><td> 4</td></tr>\n",
       "\t<tr><td>jawiki</td><td> 5</td></tr>\n",
       "\t<tr><td>nlwiki</td><td> 8</td></tr>\n",
       "\t<tr><td>huwiki</td><td> 9</td></tr>\n",
       "\t<tr><td>arwiki</td><td>10</td></tr>\n",
       "\t<tr><td>enwiki</td><td>13</td></tr>\n",
       "\t<tr><td>frwiki</td><td>26</td></tr>\n",
       "\t<tr><td>svwiki</td><td>47</td></tr>\n",
       "</tbody>\n",
       "</table>\n"
      ],
      "text/latex": [
       "A tibble: 12 × 2\n",
       "\\begin{tabular}{ll}\n",
       " wiki & total\\_events\\\\\n",
       " <chr> & <int>\\\\\n",
       "\\hline\n",
       "\t viwiki &  1\\\\\n",
       "\t hewiki &  2\\\\\n",
       "\t cswiki &  3\\\\\n",
       "\t kowiki &  4\\\\\n",
       "\t zhwiki &  4\\\\\n",
       "\t jawiki &  5\\\\\n",
       "\t nlwiki &  8\\\\\n",
       "\t huwiki &  9\\\\\n",
       "\t arwiki & 10\\\\\n",
       "\t enwiki & 13\\\\\n",
       "\t frwiki & 26\\\\\n",
       "\t svwiki & 47\\\\\n",
       "\\end{tabular}\n"
      ],
      "text/markdown": [
       "\n",
       "A tibble: 12 × 2\n",
       "\n",
       "| wiki &lt;chr&gt; | total_events &lt;int&gt; |\n",
       "|---|---|\n",
       "| viwiki |  1 |\n",
       "| hewiki |  2 |\n",
       "| cswiki |  3 |\n",
       "| kowiki |  4 |\n",
       "| zhwiki |  4 |\n",
       "| jawiki |  5 |\n",
       "| nlwiki |  8 |\n",
       "| huwiki |  9 |\n",
       "| arwiki | 10 |\n",
       "| enwiki | 13 |\n",
       "| frwiki | 26 |\n",
       "| svwiki | 47 |\n",
       "\n"
      ],
      "text/plain": [
       "   wiki   total_events\n",
       "1  viwiki  1          \n",
       "2  hewiki  2          \n",
       "3  cswiki  3          \n",
       "4  kowiki  4          \n",
       "5  zhwiki  4          \n",
       "6  jawiki  5          \n",
       "7  nlwiki  8          \n",
       "8  huwiki  9          \n",
       "9  arwiki 10          \n",
       "10 enwiki 13          \n",
       "11 frwiki 26          \n",
       "12 svwiki 47          "
      ]
     },
     "metadata": {},
     "output_type": "display_data"
    }
   ],
   "source": [
    "total_advanced_events_bywiki_both <- collect_vefu_events %>%\n",
    "    filter(action == 'advanced-hide' |\n",
    "          action == 'advanced-show') %>%\n",
    "    group_by( wiki)  %>%\n",
    "    summarise(total_events = sum(events)) %>%\n",
    "    arrange(total_events)\n",
    "\n",
    "total_advanced_events_bywiki_both "
   ]
  },
  {
   "cell_type": "markdown",
   "metadata": {},
   "source": [
    "Svwiki and Frwiki have the largest number of advanced affordance events recorded to date (47 for svwiki and 26 for frwiki)."
   ]
  },
  {
   "cell_type": "markdown",
   "metadata": {},
   "source": [
    "# 2. Dialog Prevent Show Event (IN PROGRESS)\n",
    "Event added that is fired when someone attempts to switch from the Reply Tool's source to visual mode after drafting a comment that contains any combination of the following syntax: extension, template or table.\n",
    "\n",
    "[Task](https://phabricator.wikimedia.org/T259673)"
   ]
  },
  {
   "cell_type": "markdown",
   "metadata": {},
   "source": [
    "## Confirm events firing as expected"
   ]
  },
  {
   "cell_type": "code",
   "execution_count": null,
   "metadata": {},
   "outputs": [],
   "source": [
    "switch_prevent_events <- collect_vefu_events %>%\n",
    "    filter(action == 'dialog-prevent-show') %>%\n",
    "    arrange(desc(date))\n",
    "\n",
    "switch_prevent_events"
   ]
  },
  {
   "cell_type": "markdown",
   "metadata": {},
   "source": [
    "There are currently no dialog prevent show events being recorded. Currently, checking to confirm how the events are fired so that I can QA"
   ]
  }
 ],
 "metadata": {
  "kernelspec": {
   "display_name": "R",
   "language": "R",
   "name": "ir"
  },
  "language_info": {
   "codemirror_mode": "r",
   "file_extension": ".r",
   "mimetype": "text/x-r-source",
   "name": "R",
   "pygments_lexer": "r",
   "version": "3.5.2"
  }
 },
 "nbformat": 4,
 "nbformat_minor": 4
}
