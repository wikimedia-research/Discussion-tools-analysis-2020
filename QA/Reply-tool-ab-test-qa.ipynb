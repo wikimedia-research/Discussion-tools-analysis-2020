{
 "cells": [
  {
   "cell_type": "markdown",
   "metadata": {},
   "source": [
    "# Reply Tool AB Test Post-Deployment QA\n",
    "\n",
    "[Post-Deployment QA Task](https://phabricator.wikimedia.org/T273096) | [Enable Reply Tool AB Test Task](https://phabricator.wikimedia.org/T273554)"
   ]
  },
  {
   "cell_type": "markdown",
   "metadata": {},
   "source": [
    "Instrumentation changes were deployed to make it possible to identify any non-discussion tool EditAttemptStep events by users in the AB test. These changes were deployed on 12 February 2020.\n",
    "\n",
    "The purpose of this post-deployment QA is to confirm that events are logging as expected and needed to run the AB test."
   ]
  },
  {
   "cell_type": "markdown",
   "metadata": {},
   "source": [
    "# Requirements\n",
    "\n",
    "* Be able to distinguish between A/B test and non-A/B test events within EditAttemptStep\n",
    "* Within the Reply Tool A/B test, be able to distinguish between Discussion Tool and non-Discussion Tool events.\n",
    "* Within the Reply Tool A/B test, be able to distinguish all events logged for the control group and the treatment group (This would include both Discussion Tools and VisualEditor/WikiEditor events)"
   ]
  },
  {
   "cell_type": "code",
   "execution_count": 5,
   "metadata": {},
   "outputs": [],
   "source": [
    "shhh <- function(expr) suppressPackageStartupMessages(suppressWarnings(suppressMessages(expr)))\n",
    "shhh({\n",
    "    library(magrittr); library(zeallot); library(glue); library(tidyverse); library(zoo); library(lubridate)\n",
    "    library(scales)\n",
    "})"
   ]
  },
  {
   "cell_type": "code",
   "execution_count": 1,
   "metadata": {},
   "outputs": [],
   "source": [
    "# collect all desktop edit attempts by bucket/test group and event type\n",
    "query <-\n",
    "\"\n",
    "SELECT\n",
    "  date_format(dt, 'yyyy-MM-dd') as attempt_dt,\n",
    "  event.bucket AS experiment_group,\n",
    "  wiki As wiki,\n",
    "  event.integration AS event_type,\n",
    "-- review participating wikis\n",
    "  IF( wiki IN ('frwiki', 'eswiki', 'itwiki', 'jawiki', 'fawiki', 'plwiki', 'hewiki', 'nlwiki',\n",
    "    'hiwiki', 'kowiki', 'viwiki', 'thwiki', 'ptwiki', 'bnwiki', 'arzwiki', 'swwiki', 'zhwiki',\n",
    "    'ukwiki', 'idwiki', 'amwiki', 'omwiki', 'afwiki'), 'TRUE', 'FALSE'\n",
    ") AS is_AB_test_wiki,\n",
    "  CASE\n",
    "            WHEN min(event.user_editcount) is NULL THEN 'undefined'\n",
    "            WHEN min(event.user_editcount) < 100 THEN 'under 100'\n",
    "            WHEN min(event.user_editcount) >=100 AND min(event.user_editcount) < 500 THEN '100-499'\n",
    "            ELSE '500+'\n",
    "            END AS initial_edit_count,\n",
    "  event.is_oversample AS is_oversample,\n",
    "  event.user_id as user_id,\n",
    "  event.editing_session_id as edit_attempt_id,\n",
    "  event.editor_interface AS editor_interface\n",
    "FROM event.editattemptstep\n",
    "WHERE\n",
    "-- Review data starting a few days prior to the AB test deployment on Feb 11th\n",
    "  year = 2021 \n",
    "  AND month = 02\n",
    "  AND day >= 06\n",
    "-- look at only desktop init events\n",
    "  AND event.platform = 'desktop'\n",
    "  AND event.action = 'init'\n",
    "  -- remove bots\n",
    "  AND useragent.is_bot = false\n",
    "GROUP BY\n",
    " date_format(dt, 'yyyy-MM-dd'),\n",
    " event.bucket,\n",
    " wiki,\n",
    " event.integration,\n",
    "  IF( wiki IN ('frwiki', 'eswiki', 'itwiki', 'jawiki', 'fawiki', 'plwiki', 'hewiki', 'nlwiki',\n",
    "    'hiwiki', 'kowiki', 'viwiki', 'thwiki', 'ptwiki', 'bnwiki', 'arzwiki', 'swwiki', 'zhwiki',\n",
    "    'ukwiki', 'idwiki', 'amwiki', 'omwiki', 'afwiki'), 'TRUE', 'FALSE'\n",
    "    ),\n",
    "  event.is_oversample,\n",
    "  event.user_id,\n",
    "  event.editing_session_id,\n",
    "  event.editor_interface\n",
    "\"\n"
   ]
  },
  {
   "cell_type": "code",
   "execution_count": 2,
   "metadata": {},
   "outputs": [
    {
     "name": "stderr",
     "output_type": "stream",
     "text": [
      "Don't forget to authenticate with Kerberos using kinit\n",
      "\n"
     ]
    }
   ],
   "source": [
    "collect_edit_attempts <- wmfdata::query_hive(query)"
   ]
  },
  {
   "cell_type": "code",
   "execution_count": 3,
   "metadata": {},
   "outputs": [],
   "source": [
    "collect_edit_attempts$attempt_dt <- as.Date(collect_edit_attempts$attempt_dt)"
   ]
  },
  {
   "cell_type": "markdown",
   "metadata": {},
   "source": [
    "## Edit attempts and distinct users by experiment group"
   ]
  },
  {
   "cell_type": "code",
   "execution_count": 6,
   "metadata": {
    "scrolled": true
   },
   "outputs": [
    {
     "name": "stderr",
     "output_type": "stream",
     "text": [
      "`summarise()` regrouping output by 'is_ab_test_wiki' (override with `.groups` argument)\n",
      "\n"
     ]
    },
    {
     "data": {
      "text/html": [
       "<table>\n",
       "<caption>A grouped_df: 4 × 4</caption>\n",
       "<thead>\n",
       "\t<tr><th scope=col>is_ab_test_wiki</th><th scope=col>experiment_group</th><th scope=col>n_users</th><th scope=col>n_attempts</th></tr>\n",
       "\t<tr><th scope=col>&lt;lgl&gt;</th><th scope=col>&lt;chr&gt;</th><th scope=col>&lt;int&gt;</th><th scope=col>&lt;int&gt;</th></tr>\n",
       "</thead>\n",
       "<tbody>\n",
       "\t<tr><td>FALSE</td><td>NULL   </td><td>49398</td><td>212818</td></tr>\n",
       "\t<tr><td> TRUE</td><td>control</td><td> 5751</td><td> 19307</td></tr>\n",
       "\t<tr><td> TRUE</td><td>NULL   </td><td>13980</td><td> 64972</td></tr>\n",
       "\t<tr><td> TRUE</td><td>test   </td><td> 6338</td><td> 21229</td></tr>\n",
       "</tbody>\n",
       "</table>\n"
      ],
      "text/latex": [
       "A grouped\\_df: 4 × 4\n",
       "\\begin{tabular}{llll}\n",
       " is\\_ab\\_test\\_wiki & experiment\\_group & n\\_users & n\\_attempts\\\\\n",
       " <lgl> & <chr> & <int> & <int>\\\\\n",
       "\\hline\n",
       "\t FALSE & NULL    & 49398 & 212818\\\\\n",
       "\t  TRUE & control &  5751 &  19307\\\\\n",
       "\t  TRUE & NULL    & 13980 &  64972\\\\\n",
       "\t  TRUE & test    &  6338 &  21229\\\\\n",
       "\\end{tabular}\n"
      ],
      "text/markdown": [
       "\n",
       "A grouped_df: 4 × 4\n",
       "\n",
       "| is_ab_test_wiki &lt;lgl&gt; | experiment_group &lt;chr&gt; | n_users &lt;int&gt; | n_attempts &lt;int&gt; |\n",
       "|---|---|---|---|\n",
       "| FALSE | NULL    | 49398 | 212818 |\n",
       "|  TRUE | control |  5751 |  19307 |\n",
       "|  TRUE | NULL    | 13980 |  64972 |\n",
       "|  TRUE | test    |  6338 |  21229 |\n",
       "\n"
      ],
      "text/plain": [
       "  is_ab_test_wiki experiment_group n_users n_attempts\n",
       "1 FALSE           NULL             49398   212818    \n",
       "2  TRUE           control           5751    19307    \n",
       "3  TRUE           NULL             13980    64972    \n",
       "4  TRUE           test              6338    21229    "
      ]
     },
     "metadata": {},
     "output_type": "display_data"
    }
   ],
   "source": [
    "edit_attempts_byexperimentgroup <- collect_edit_attempts %>%\n",
    "     # remove anon users and review data following AB deployment\n",
    "    filter(attempt_dt >= '2021-02-12',\n",
    "          user_id != 0) %>%\n",
    "    group_by (is_ab_test_wiki, experiment_group) %>%\n",
    "    summarise(n_users = n_distinct(user_id),\n",
    "              n_attempts = n_distinct(edit_attempt_id))\n",
    "\n",
    "edit_attempts_byexperimentgroup "
   ]
  },
  {
   "cell_type": "markdown",
   "metadata": {},
   "source": [
    "I confirmed that I can distinguish events in the AB test (indicated by `experiment_group = 'control'` or  `experiment_group = 'test'`)  and events not in the AB test (indicated by `experiment_group = 'NULL'`). \n",
    "\n",
    "I can also distinguish between events logged to the `Test` versus  `Control` groups within the AB test with the new instrumentation. We are logging a reasonable amount of attempts in each group among the expected experiment population.\n",
    "\n",
    "`Control` and `Test` events are only logged for the wikis included in the AB test as expected. \n",
    "\n",
    "About 53.6% of all logged-in users that have attempted a desktop edit since the AB test deployment on 12 Feb 2020 on the participating wikis were not included in the AB test. Based on the AB test criteria, this would include users that have used the reply tool before (defined as people whose discussiontools-editmode preference is set). This indicates that the targeting for the A/B test is fairly restrictive.  However, even with the restrictive criteria, I believe we should have sufficient data to complete the analysis in 2 to 3 weeks based on the current rate of daily AB events logged. \n"
   ]
  },
  {
   "cell_type": "markdown",
   "metadata": {},
   "source": [
    "## Discussion-Tool related edit attempts and distinct users by experiment group"
   ]
  },
  {
   "cell_type": "code",
   "execution_count": 7,
   "metadata": {},
   "outputs": [
    {
     "name": "stderr",
     "output_type": "stream",
     "text": [
      "`summarise()` regrouping output by 'event_type' (override with `.groups` argument)\n",
      "\n"
     ]
    },
    {
     "data": {
      "text/html": [
       "<table>\n",
       "<caption>A grouped_df: 4 × 4</caption>\n",
       "<thead>\n",
       "\t<tr><th scope=col>event_type</th><th scope=col>experiment_group</th><th scope=col>n_users</th><th scope=col>n_attempts</th></tr>\n",
       "\t<tr><th scope=col>&lt;chr&gt;</th><th scope=col>&lt;chr&gt;</th><th scope=col>&lt;int&gt;</th><th scope=col>&lt;int&gt;</th></tr>\n",
       "</thead>\n",
       "<tbody>\n",
       "\t<tr><td>discussiontools</td><td>control</td><td>  19</td><td>   36</td></tr>\n",
       "\t<tr><td>discussiontools</td><td>test   </td><td>1342</td><td> 3128</td></tr>\n",
       "\t<tr><td>page           </td><td>control</td><td>5744</td><td>19271</td></tr>\n",
       "\t<tr><td>page           </td><td>test   </td><td>5689</td><td>18101</td></tr>\n",
       "</tbody>\n",
       "</table>\n"
      ],
      "text/latex": [
       "A grouped\\_df: 4 × 4\n",
       "\\begin{tabular}{llll}\n",
       " event\\_type & experiment\\_group & n\\_users & n\\_attempts\\\\\n",
       " <chr> & <chr> & <int> & <int>\\\\\n",
       "\\hline\n",
       "\t discussiontools & control &   19 &    36\\\\\n",
       "\t discussiontools & test    & 1342 &  3128\\\\\n",
       "\t page            & control & 5744 & 19271\\\\\n",
       "\t page            & test    & 5689 & 18101\\\\\n",
       "\\end{tabular}\n"
      ],
      "text/markdown": [
       "\n",
       "A grouped_df: 4 × 4\n",
       "\n",
       "| event_type &lt;chr&gt; | experiment_group &lt;chr&gt; | n_users &lt;int&gt; | n_attempts &lt;int&gt; |\n",
       "|---|---|---|---|\n",
       "| discussiontools | control |   19 |    36 |\n",
       "| discussiontools | test    | 1342 |  3128 |\n",
       "| page            | control | 5744 | 19271 |\n",
       "| page            | test    | 5689 | 18101 |\n",
       "\n"
      ],
      "text/plain": [
       "  event_type      experiment_group n_users n_attempts\n",
       "1 discussiontools control            19       36     \n",
       "2 discussiontools test             1342     3128     \n",
       "3 page            control          5744    19271     \n",
       "4 page            test             5689    18101     "
      ]
     },
     "metadata": {},
     "output_type": "display_data"
    }
   ],
   "source": [
    "dt_attempts_byexperimentgroup <- collect_edit_attempts  %>%\n",
    " # review only AB test events\n",
    "    filter(attempt_dt >= '2021-02-12',\n",
    "        is_ab_test_wiki == TRUE,\n",
    "          experiment_group != 'NULL',\n",
    "           user_id != 0\n",
    "          )  %>% \n",
    "    group_by (event_type, experiment_group) %>%\n",
    "    summarise(n_users = n_distinct(user_id),\n",
    "              n_attempts = n_distinct(edit_attempt_id))\n",
    "\n",
    "dt_attempts_byexperimentgroup"
   ]
  },
  {
   "cell_type": "markdown",
   "metadata": {},
   "source": [
    "I confirmed I am able to distinguish between discussion tool (`event.type = 'discussiontools'`) and non-discussion tool events (`event.type = 'page'`) for both the `Test` and `Control` groups.\n",
    "\n",
    "There are very few discussion tool attempts (36 attempts from 19 users) in the control group. This is expected as these events could only be recorded for users that manually enabled DiscussionTools. \n",
    "\n",
    "There is a similar number of attempts recorded for main edit attempts (`event.integration = page`) in both the test and control groups. I would expect there to be fewer non-discussion tool edit attempts in the test group compared to the control since that group is shown the reply tool as default. \n",
    "\n",
    "I reviewed edit attempts on talk pages only to see if some of those edits included edits to the article, where the discussion tool is not available. \n"
   ]
  },
  {
   "cell_type": "code",
   "execution_count": 1,
   "metadata": {},
   "outputs": [],
   "source": [
    "# review only talk page edit attempts\n",
    "query <-\n",
    "\n",
    "\"\n",
    "SELECT\n",
    "  date_format(dt, 'yyyy-MM-dd') as attempt_dt,\n",
    "  event.bucket AS experiment_group,\n",
    "  wiki As wiki,\n",
    "  event.integration AS event_type,\n",
    "  event.init_type AS init_type,\n",
    "  IF( wiki IN ('frwiki', 'eswiki', 'itwiki', 'jawiki', 'fawiki', 'plwiki', 'hewiki', 'nlwiki',\n",
    "    'hiwiki', 'kowiki', 'viwiki', 'thwiki', 'ptwiki', 'bnwiki', 'arzwiki', 'swwiki', 'zhwiki',\n",
    "    'ukwiki', 'idwiki', 'amwiki', 'omwiki', 'afwiki'), 'TRUE', 'FALSE'\n",
    ") AS is_AB_test_wiki,\n",
    "  CASE\n",
    "            WHEN min(event.user_editcount) is NULL THEN 'undefined'\n",
    "            WHEN min(event.user_editcount) < 100 THEN 'under 100'\n",
    "            WHEN min(event.user_editcount) >=100 AND min(event.user_editcount) < 500 THEN '100-499'\n",
    "            ELSE '500+'\n",
    "            END AS initial_edit_count,\n",
    "  event.is_oversample AS is_oversample,\n",
    "  event.user_id as user_id,\n",
    "  event.editing_session_id as edit_attempt_id,\n",
    "  event.editor_interface AS editor_interface\n",
    "FROM event.editattemptstep\n",
    "WHERE\n",
    "-- AB test deployed on Feb 11th \n",
    "  year = 2021 \n",
    "  AND month = 02\n",
    "  AND day >= 12\n",
    "-- look at only desktop events\n",
    "  AND event.platform = 'desktop'\n",
    "-- review all talk namespaces\n",
    "  AND event.page_ns % 2 = 1\n",
    "  AND event.action = 'init'\n",
    "GROUP BY\n",
    " date_format(dt, 'yyyy-MM-dd'),\n",
    " event.bucket,\n",
    " wiki,\n",
    " event.integration,\n",
    " event.init_type,\n",
    "  IF( wiki IN ('frwiki', 'eswiki', 'itwiki', 'jawiki', 'fawiki', 'plwiki', 'hewiki', 'nlwiki',\n",
    "    'hiwiki', 'kowiki', 'viwiki', 'thwiki', 'ptwiki', 'bnwiki', 'arzwiki', 'swwiki', 'zhwiki',\n",
    "    'ukwiki', 'idwiki', 'amwiki', 'omwiki', 'afwiki'), 'TRUE', 'FALSE'\n",
    "    ),\n",
    "  event.is_oversample,\n",
    "  event.user_id,\n",
    "  event.editing_session_id,\n",
    "  event.editor_interface\n",
    "\"\n"
   ]
  },
  {
   "cell_type": "code",
   "execution_count": 3,
   "metadata": {},
   "outputs": [
    {
     "name": "stderr",
     "output_type": "stream",
     "text": [
      "Don't forget to authenticate with Kerberos using kinit\n",
      "\n"
     ]
    }
   ],
   "source": [
    "collect_edit_attempts_talkonly <- wmfdata::query_hive(query)"
   ]
  },
  {
   "cell_type": "code",
   "execution_count": 6,
   "metadata": {},
   "outputs": [
    {
     "name": "stderr",
     "output_type": "stream",
     "text": [
      "`summarise()` regrouping output by 'event_type', 'init_type' (override with `.groups` argument)\n",
      "\n"
     ]
    },
    {
     "data": {
      "text/html": [
       "<table>\n",
       "<caption>A grouped_df: 6 × 5</caption>\n",
       "<thead>\n",
       "\t<tr><th scope=col>event_type</th><th scope=col>init_type</th><th scope=col>experiment_group</th><th scope=col>n_users</th><th scope=col>n_attempts</th></tr>\n",
       "\t<tr><th scope=col>&lt;chr&gt;</th><th scope=col>&lt;chr&gt;</th><th scope=col>&lt;chr&gt;</th><th scope=col>&lt;int&gt;</th><th scope=col>&lt;int&gt;</th></tr>\n",
       "</thead>\n",
       "<tbody>\n",
       "\t<tr><td>discussiontools</td><td>page   </td><td>control</td><td>  5</td><td>  10</td></tr>\n",
       "\t<tr><td>discussiontools</td><td>page   </td><td>test   </td><td>787</td><td>1722</td></tr>\n",
       "\t<tr><td>page           </td><td>page   </td><td>control</td><td>201</td><td> 292</td></tr>\n",
       "\t<tr><td>page           </td><td>page   </td><td>test   </td><td>205</td><td> 270</td></tr>\n",
       "\t<tr><td>page           </td><td>section</td><td>control</td><td>176</td><td> 255</td></tr>\n",
       "\t<tr><td>page           </td><td>section</td><td>test   </td><td>143</td><td> 187</td></tr>\n",
       "</tbody>\n",
       "</table>\n"
      ],
      "text/latex": [
       "A grouped\\_df: 6 × 5\n",
       "\\begin{tabular}{lllll}\n",
       " event\\_type & init\\_type & experiment\\_group & n\\_users & n\\_attempts\\\\\n",
       " <chr> & <chr> & <chr> & <int> & <int>\\\\\n",
       "\\hline\n",
       "\t discussiontools & page    & control &   5 &   10\\\\\n",
       "\t discussiontools & page    & test    & 787 & 1722\\\\\n",
       "\t page            & page    & control & 201 &  292\\\\\n",
       "\t page            & page    & test    & 205 &  270\\\\\n",
       "\t page            & section & control & 176 &  255\\\\\n",
       "\t page            & section & test    & 143 &  187\\\\\n",
       "\\end{tabular}\n"
      ],
      "text/markdown": [
       "\n",
       "A grouped_df: 6 × 5\n",
       "\n",
       "| event_type &lt;chr&gt; | init_type &lt;chr&gt; | experiment_group &lt;chr&gt; | n_users &lt;int&gt; | n_attempts &lt;int&gt; |\n",
       "|---|---|---|---|---|\n",
       "| discussiontools | page    | control |   5 |   10 |\n",
       "| discussiontools | page    | test    | 787 | 1722 |\n",
       "| page            | page    | control | 201 |  292 |\n",
       "| page            | page    | test    | 205 |  270 |\n",
       "| page            | section | control | 176 |  255 |\n",
       "| page            | section | test    | 143 |  187 |\n",
       "\n"
      ],
      "text/plain": [
       "  event_type      init_type experiment_group n_users n_attempts\n",
       "1 discussiontools page      control            5       10      \n",
       "2 discussiontools page      test             787     1722      \n",
       "3 page            page      control          201      292      \n",
       "4 page            page      test             205      270      \n",
       "5 page            section   control          176      255      \n",
       "6 page            section   test             143      187      "
      ]
     },
     "metadata": {},
     "output_type": "display_data"
    }
   ],
   "source": [
    "dt_attempts_bytestgroup_talkpage_only <- collect_edit_attempts_talkonly  %>%\n",
    " # review only AB test events\n",
    "     filter(attempt_dt >= '2021-02-12',\n",
    "        is_ab_test_wiki == TRUE,\n",
    "          experiment_group != 'NULL'\n",
    "          )   %>% \n",
    "    group_by (event_type, init_type, experiment_group) %>%\n",
    "    summarise(n_users = n_distinct(user_id),\n",
    "              n_attempts = n_distinct(edit_attempt_id))\n",
    "\n",
    "dt_attempts_bytestgroup_talkpage_only "
   ]
  },
  {
   "cell_type": "markdown",
   "metadata": {},
   "source": [
    "ISSUE: There appear to be close to the same number of non-discussion tool edit attempts (`event.integration = 'page'`) to talk pages in both the control and test groups. I would expect there to be far fewer number of non-dt edit attempts in the test group compared to the control group as they are shown the reply tool as default. \n",
    "\n",
    "This could be reflective of actual user behavior. From David Lynch: \"Someone who's used to replying to comments via the source editor might be sticking with what they know, rather than poking at new things. In that case, the fairly even split between control and test would be consistent with a user-type who's just not paying attention to the new functionality.\"\n",
    "\n",
    "I looked at the edit count bucket splits to confirm if we see more page events in the test group for more experienced users to fit the hypothesis above:"
   ]
  },
  {
   "cell_type": "code",
   "execution_count": 21,
   "metadata": {},
   "outputs": [
    {
     "name": "stderr",
     "output_type": "stream",
     "text": [
      "`summarise()` regrouping output by 'event_type', 'experiment_group' (override with `.groups` argument)\n",
      "\n"
     ]
    },
    {
     "data": {
      "text/html": [
       "<table>\n",
       "<caption>A grouped_df: 10 × 5</caption>\n",
       "<thead>\n",
       "\t<tr><th scope=col>event_type</th><th scope=col>experiment_group</th><th scope=col>initial_edit_count</th><th scope=col>n_users</th><th scope=col>n_attempts</th></tr>\n",
       "\t<tr><th scope=col>&lt;chr&gt;</th><th scope=col>&lt;chr&gt;</th><th scope=col>&lt;chr&gt;</th><th scope=col>&lt;int&gt;</th><th scope=col>&lt;int&gt;</th></tr>\n",
       "</thead>\n",
       "<tbody>\n",
       "\t<tr><td>discussiontools</td><td>control</td><td>under 100</td><td>  5</td><td> 10</td></tr>\n",
       "\t<tr><td>discussiontools</td><td>test   </td><td>100-499  </td><td> 82</td><td>212</td></tr>\n",
       "\t<tr><td>discussiontools</td><td>test   </td><td>500+     </td><td>255</td><td>539</td></tr>\n",
       "\t<tr><td>discussiontools</td><td>test   </td><td>under 100</td><td>455</td><td>971</td></tr>\n",
       "\t<tr><td>page           </td><td>control</td><td>100-499  </td><td> 11</td><td> 11</td></tr>\n",
       "\t<tr><td>page           </td><td>control</td><td>500+     </td><td> 81</td><td>166</td></tr>\n",
       "\t<tr><td>page           </td><td>control</td><td>under 100</td><td>110</td><td>115</td></tr>\n",
       "\t<tr><td>page           </td><td>test   </td><td>100-499  </td><td> 13</td><td> 16</td></tr>\n",
       "\t<tr><td>page           </td><td>test   </td><td>500+     </td><td> 95</td><td>152</td></tr>\n",
       "\t<tr><td>page           </td><td>test   </td><td>under 100</td><td> 98</td><td>102</td></tr>\n",
       "</tbody>\n",
       "</table>\n"
      ],
      "text/latex": [
       "A grouped\\_df: 10 × 5\n",
       "\\begin{tabular}{lllll}\n",
       " event\\_type & experiment\\_group & initial\\_edit\\_count & n\\_users & n\\_attempts\\\\\n",
       " <chr> & <chr> & <chr> & <int> & <int>\\\\\n",
       "\\hline\n",
       "\t discussiontools & control & under 100 &   5 &  10\\\\\n",
       "\t discussiontools & test    & 100-499   &  82 & 212\\\\\n",
       "\t discussiontools & test    & 500+      & 255 & 539\\\\\n",
       "\t discussiontools & test    & under 100 & 455 & 971\\\\\n",
       "\t page            & control & 100-499   &  11 &  11\\\\\n",
       "\t page            & control & 500+      &  81 & 166\\\\\n",
       "\t page            & control & under 100 & 110 & 115\\\\\n",
       "\t page            & test    & 100-499   &  13 &  16\\\\\n",
       "\t page            & test    & 500+      &  95 & 152\\\\\n",
       "\t page            & test    & under 100 &  98 & 102\\\\\n",
       "\\end{tabular}\n"
      ],
      "text/markdown": [
       "\n",
       "A grouped_df: 10 × 5\n",
       "\n",
       "| event_type &lt;chr&gt; | experiment_group &lt;chr&gt; | initial_edit_count &lt;chr&gt; | n_users &lt;int&gt; | n_attempts &lt;int&gt; |\n",
       "|---|---|---|---|---|\n",
       "| discussiontools | control | under 100 |   5 |  10 |\n",
       "| discussiontools | test    | 100-499   |  82 | 212 |\n",
       "| discussiontools | test    | 500+      | 255 | 539 |\n",
       "| discussiontools | test    | under 100 | 455 | 971 |\n",
       "| page            | control | 100-499   |  11 |  11 |\n",
       "| page            | control | 500+      |  81 | 166 |\n",
       "| page            | control | under 100 | 110 | 115 |\n",
       "| page            | test    | 100-499   |  13 |  16 |\n",
       "| page            | test    | 500+      |  95 | 152 |\n",
       "| page            | test    | under 100 |  98 | 102 |\n",
       "\n"
      ],
      "text/plain": [
       "   event_type      experiment_group initial_edit_count n_users n_attempts\n",
       "1  discussiontools control          under 100            5      10       \n",
       "2  discussiontools test             100-499             82     212       \n",
       "3  discussiontools test             500+               255     539       \n",
       "4  discussiontools test             under 100          455     971       \n",
       "5  page            control          100-499             11      11       \n",
       "6  page            control          500+                81     166       \n",
       "7  page            control          under 100          110     115       \n",
       "8  page            test             100-499             13      16       \n",
       "9  page            test             500+                95     152       \n",
       "10 page            test             under 100           98     102       "
      ]
     },
     "metadata": {},
     "output_type": "display_data"
    }
   ],
   "source": [
    "dt_attempts_bytestgroup_talkpage_only_editbucket <- collect_edit_attempts_talkonly  %>%\n",
    " # review only AB test events\n",
    "     filter(attempt_dt >= '2021-02-12',\n",
    "        is_ab_test_wiki == TRUE,\n",
    "          experiment_group != 'NULL'\n",
    "          )   %>% \n",
    "    group_by (event_type, experiment_group, initial_edit_count) %>%\n",
    "    summarise(n_users = n_distinct(user_id),\n",
    "              n_attempts = n_distinct(edit_attempt_id))\n",
    "\n",
    "dt_attempts_bytestgroup_talkpage_only_editbucket"
   ]
  },
  {
   "cell_type": "markdown",
   "metadata": {},
   "source": [
    "## AB Test Edit Attempts Logged by Wiki"
   ]
  },
  {
   "cell_type": "code",
   "execution_count": 299,
   "metadata": {},
   "outputs": [
    {
     "data": {
      "text/html": [
       "<table>\n",
       "<caption>A data.frame: 1 × 1</caption>\n",
       "<thead>\n",
       "\t<tr><th scope=col>num_wikis</th></tr>\n",
       "\t<tr><th scope=col>&lt;int&gt;</th></tr>\n",
       "</thead>\n",
       "<tbody>\n",
       "\t<tr><td>21</td></tr>\n",
       "</tbody>\n",
       "</table>\n"
      ],
      "text/latex": [
       "A data.frame: 1 × 1\n",
       "\\begin{tabular}{l}\n",
       " num\\_wikis\\\\\n",
       " <int>\\\\\n",
       "\\hline\n",
       "\t 21\\\\\n",
       "\\end{tabular}\n"
      ],
      "text/markdown": [
       "\n",
       "A data.frame: 1 × 1\n",
       "\n",
       "| num_wikis &lt;int&gt; |\n",
       "|---|\n",
       "| 21 |\n",
       "\n"
      ],
      "text/plain": [
       "  num_wikis\n",
       "1 21       "
      ]
     },
     "metadata": {},
     "output_type": "display_data"
    }
   ],
   "source": [
    "ab_attempts_num_wiki <- collect_edit_attempts %>%\n",
    "# review only AB edit attempts\n",
    "     filter(attempt_dt >= '2021-02-12',\n",
    "        is_ab_test_wiki == TRUE,\n",
    "          experiment_group != 'NULL'\n",
    "          )  %>%\n",
    "    summarise(num_wikis = n_distinct(wiki))\n",
    "\n",
    "ab_attempts_num_wiki"
   ]
  },
  {
   "cell_type": "markdown",
   "metadata": {},
   "source": [
    "Edit attempts by users in the AB test were recorded on 21 of the 22 participating wikis. A review of attempts by each participating wikis indicates that no edit attempts by a user included in the AB test have yet been recorded on Amharic Wikipedia. As a smaller wiki, this seems possible if no user that met the AB test criteria has made an edit attempt."
   ]
  },
  {
   "cell_type": "code",
   "execution_count": 298,
   "metadata": {},
   "outputs": [
    {
     "name": "stderr",
     "output_type": "stream",
     "text": [
      "`summarise()` regrouping output by 'wiki' (override with `.groups` argument)\n",
      "\n"
     ]
    },
    {
     "data": {
      "text/html": [
       "<table>\n",
       "<caption>A grouped_df: 41 × 4</caption>\n",
       "<thead>\n",
       "\t<tr><th scope=col>wiki</th><th scope=col>experiment_group</th><th scope=col>n_users</th><th scope=col>n_attempts</th></tr>\n",
       "\t<tr><th scope=col>&lt;chr&gt;</th><th scope=col>&lt;chr&gt;</th><th scope=col>&lt;int&gt;</th><th scope=col>&lt;int&gt;</th></tr>\n",
       "</thead>\n",
       "<tbody>\n",
       "\t<tr><td>afwiki </td><td>control</td><td>  3</td><td>  14</td></tr>\n",
       "\t<tr><td>afwiki </td><td>test   </td><td>  6</td><td>  18</td></tr>\n",
       "\t<tr><td>arzwiki</td><td>control</td><td>  1</td><td>   1</td></tr>\n",
       "\t<tr><td>arzwiki</td><td>test   </td><td>  3</td><td>   5</td></tr>\n",
       "\t<tr><td>bnwiki </td><td>control</td><td> 29</td><td>  70</td></tr>\n",
       "\t<tr><td>bnwiki </td><td>test   </td><td> 19</td><td>  53</td></tr>\n",
       "\t<tr><td>eswiki </td><td>control</td><td>520</td><td>1181</td></tr>\n",
       "\t<tr><td>eswiki </td><td>test   </td><td>585</td><td>1406</td></tr>\n",
       "\t<tr><td>fawiki </td><td>control</td><td>134</td><td> 367</td></tr>\n",
       "\t<tr><td>fawiki </td><td>test   </td><td>176</td><td> 399</td></tr>\n",
       "\t<tr><td>frwiki </td><td>control</td><td>652</td><td>1542</td></tr>\n",
       "\t<tr><td>frwiki </td><td>test   </td><td>675</td><td>1626</td></tr>\n",
       "\t<tr><td>hewiki </td><td>control</td><td>198</td><td> 699</td></tr>\n",
       "\t<tr><td>hewiki </td><td>test   </td><td>202</td><td> 742</td></tr>\n",
       "\t<tr><td>hiwiki </td><td>control</td><td> 26</td><td>  49</td></tr>\n",
       "\t<tr><td>hiwiki </td><td>test   </td><td> 40</td><td>  79</td></tr>\n",
       "\t<tr><td>idwiki </td><td>control</td><td> 83</td><td> 178</td></tr>\n",
       "\t<tr><td>idwiki </td><td>test   </td><td> 81</td><td> 252</td></tr>\n",
       "\t<tr><td>itwiki </td><td>control</td><td>356</td><td> 901</td></tr>\n",
       "\t<tr><td>itwiki </td><td>test   </td><td>432</td><td>1260</td></tr>\n",
       "\t<tr><td>jawiki </td><td>control</td><td>363</td><td> 815</td></tr>\n",
       "\t<tr><td>jawiki </td><td>test   </td><td>372</td><td> 931</td></tr>\n",
       "\t<tr><td>kowiki </td><td>control</td><td> 58</td><td> 267</td></tr>\n",
       "\t<tr><td>kowiki </td><td>test   </td><td> 66</td><td> 175</td></tr>\n",
       "\t<tr><td>nlwiki </td><td>control</td><td>134</td><td> 283</td></tr>\n",
       "\t<tr><td>nlwiki </td><td>test   </td><td>170</td><td> 451</td></tr>\n",
       "\t<tr><td>omwiki </td><td>test   </td><td>  1</td><td>  15</td></tr>\n",
       "\t<tr><td>plwiki </td><td>control</td><td>206</td><td> 514</td></tr>\n",
       "\t<tr><td>plwiki </td><td>test   </td><td>262</td><td> 647</td></tr>\n",
       "\t<tr><td>ptwiki </td><td>control</td><td>263</td><td> 545</td></tr>\n",
       "\t<tr><td>ptwiki </td><td>test   </td><td>283</td><td> 655</td></tr>\n",
       "\t<tr><td>swwiki </td><td>control</td><td>  2</td><td>   4</td></tr>\n",
       "\t<tr><td>swwiki </td><td>test   </td><td>  5</td><td>  14</td></tr>\n",
       "\t<tr><td>thwiki </td><td>control</td><td> 24</td><td>  43</td></tr>\n",
       "\t<tr><td>thwiki </td><td>test   </td><td> 30</td><td>  77</td></tr>\n",
       "\t<tr><td>ukwiki </td><td>control</td><td>134</td><td> 412</td></tr>\n",
       "\t<tr><td>ukwiki </td><td>test   </td><td>161</td><td> 521</td></tr>\n",
       "\t<tr><td>viwiki </td><td>control</td><td> 71</td><td> 156</td></tr>\n",
       "\t<tr><td>viwiki </td><td>test   </td><td> 64</td><td> 308</td></tr>\n",
       "\t<tr><td>zhwiki </td><td>control</td><td>200</td><td> 502</td></tr>\n",
       "\t<tr><td>zhwiki </td><td>test   </td><td>204</td><td> 608</td></tr>\n",
       "</tbody>\n",
       "</table>\n"
      ],
      "text/latex": [
       "A grouped\\_df: 41 × 4\n",
       "\\begin{tabular}{llll}\n",
       " wiki & experiment\\_group & n\\_users & n\\_attempts\\\\\n",
       " <chr> & <chr> & <int> & <int>\\\\\n",
       "\\hline\n",
       "\t afwiki  & control &   3 &   14\\\\\n",
       "\t afwiki  & test    &   6 &   18\\\\\n",
       "\t arzwiki & control &   1 &    1\\\\\n",
       "\t arzwiki & test    &   3 &    5\\\\\n",
       "\t bnwiki  & control &  29 &   70\\\\\n",
       "\t bnwiki  & test    &  19 &   53\\\\\n",
       "\t eswiki  & control & 520 & 1181\\\\\n",
       "\t eswiki  & test    & 585 & 1406\\\\\n",
       "\t fawiki  & control & 134 &  367\\\\\n",
       "\t fawiki  & test    & 176 &  399\\\\\n",
       "\t frwiki  & control & 652 & 1542\\\\\n",
       "\t frwiki  & test    & 675 & 1626\\\\\n",
       "\t hewiki  & control & 198 &  699\\\\\n",
       "\t hewiki  & test    & 202 &  742\\\\\n",
       "\t hiwiki  & control &  26 &   49\\\\\n",
       "\t hiwiki  & test    &  40 &   79\\\\\n",
       "\t idwiki  & control &  83 &  178\\\\\n",
       "\t idwiki  & test    &  81 &  252\\\\\n",
       "\t itwiki  & control & 356 &  901\\\\\n",
       "\t itwiki  & test    & 432 & 1260\\\\\n",
       "\t jawiki  & control & 363 &  815\\\\\n",
       "\t jawiki  & test    & 372 &  931\\\\\n",
       "\t kowiki  & control &  58 &  267\\\\\n",
       "\t kowiki  & test    &  66 &  175\\\\\n",
       "\t nlwiki  & control & 134 &  283\\\\\n",
       "\t nlwiki  & test    & 170 &  451\\\\\n",
       "\t omwiki  & test    &   1 &   15\\\\\n",
       "\t plwiki  & control & 206 &  514\\\\\n",
       "\t plwiki  & test    & 262 &  647\\\\\n",
       "\t ptwiki  & control & 263 &  545\\\\\n",
       "\t ptwiki  & test    & 283 &  655\\\\\n",
       "\t swwiki  & control &   2 &    4\\\\\n",
       "\t swwiki  & test    &   5 &   14\\\\\n",
       "\t thwiki  & control &  24 &   43\\\\\n",
       "\t thwiki  & test    &  30 &   77\\\\\n",
       "\t ukwiki  & control & 134 &  412\\\\\n",
       "\t ukwiki  & test    & 161 &  521\\\\\n",
       "\t viwiki  & control &  71 &  156\\\\\n",
       "\t viwiki  & test    &  64 &  308\\\\\n",
       "\t zhwiki  & control & 200 &  502\\\\\n",
       "\t zhwiki  & test    & 204 &  608\\\\\n",
       "\\end{tabular}\n"
      ],
      "text/markdown": [
       "\n",
       "A grouped_df: 41 × 4\n",
       "\n",
       "| wiki &lt;chr&gt; | experiment_group &lt;chr&gt; | n_users &lt;int&gt; | n_attempts &lt;int&gt; |\n",
       "|---|---|---|---|\n",
       "| afwiki  | control |   3 |   14 |\n",
       "| afwiki  | test    |   6 |   18 |\n",
       "| arzwiki | control |   1 |    1 |\n",
       "| arzwiki | test    |   3 |    5 |\n",
       "| bnwiki  | control |  29 |   70 |\n",
       "| bnwiki  | test    |  19 |   53 |\n",
       "| eswiki  | control | 520 | 1181 |\n",
       "| eswiki  | test    | 585 | 1406 |\n",
       "| fawiki  | control | 134 |  367 |\n",
       "| fawiki  | test    | 176 |  399 |\n",
       "| frwiki  | control | 652 | 1542 |\n",
       "| frwiki  | test    | 675 | 1626 |\n",
       "| hewiki  | control | 198 |  699 |\n",
       "| hewiki  | test    | 202 |  742 |\n",
       "| hiwiki  | control |  26 |   49 |\n",
       "| hiwiki  | test    |  40 |   79 |\n",
       "| idwiki  | control |  83 |  178 |\n",
       "| idwiki  | test    |  81 |  252 |\n",
       "| itwiki  | control | 356 |  901 |\n",
       "| itwiki  | test    | 432 | 1260 |\n",
       "| jawiki  | control | 363 |  815 |\n",
       "| jawiki  | test    | 372 |  931 |\n",
       "| kowiki  | control |  58 |  267 |\n",
       "| kowiki  | test    |  66 |  175 |\n",
       "| nlwiki  | control | 134 |  283 |\n",
       "| nlwiki  | test    | 170 |  451 |\n",
       "| omwiki  | test    |   1 |   15 |\n",
       "| plwiki  | control | 206 |  514 |\n",
       "| plwiki  | test    | 262 |  647 |\n",
       "| ptwiki  | control | 263 |  545 |\n",
       "| ptwiki  | test    | 283 |  655 |\n",
       "| swwiki  | control |   2 |    4 |\n",
       "| swwiki  | test    |   5 |   14 |\n",
       "| thwiki  | control |  24 |   43 |\n",
       "| thwiki  | test    |  30 |   77 |\n",
       "| ukwiki  | control | 134 |  412 |\n",
       "| ukwiki  | test    | 161 |  521 |\n",
       "| viwiki  | control |  71 |  156 |\n",
       "| viwiki  | test    |  64 |  308 |\n",
       "| zhwiki  | control | 200 |  502 |\n",
       "| zhwiki  | test    | 204 |  608 |\n",
       "\n"
      ],
      "text/plain": [
       "   wiki    experiment_group n_users n_attempts\n",
       "1  afwiki  control            3       14      \n",
       "2  afwiki  test               6       18      \n",
       "3  arzwiki control            1        1      \n",
       "4  arzwiki test               3        5      \n",
       "5  bnwiki  control           29       70      \n",
       "6  bnwiki  test              19       53      \n",
       "7  eswiki  control          520     1181      \n",
       "8  eswiki  test             585     1406      \n",
       "9  fawiki  control          134      367      \n",
       "10 fawiki  test             176      399      \n",
       "11 frwiki  control          652     1542      \n",
       "12 frwiki  test             675     1626      \n",
       "13 hewiki  control          198      699      \n",
       "14 hewiki  test             202      742      \n",
       "15 hiwiki  control           26       49      \n",
       "16 hiwiki  test              40       79      \n",
       "17 idwiki  control           83      178      \n",
       "18 idwiki  test              81      252      \n",
       "19 itwiki  control          356      901      \n",
       "20 itwiki  test             432     1260      \n",
       "21 jawiki  control          363      815      \n",
       "22 jawiki  test             372      931      \n",
       "23 kowiki  control           58      267      \n",
       "24 kowiki  test              66      175      \n",
       "25 nlwiki  control          134      283      \n",
       "26 nlwiki  test             170      451      \n",
       "27 omwiki  test               1       15      \n",
       "28 plwiki  control          206      514      \n",
       "29 plwiki  test             262      647      \n",
       "30 ptwiki  control          263      545      \n",
       "31 ptwiki  test             283      655      \n",
       "32 swwiki  control            2        4      \n",
       "33 swwiki  test               5       14      \n",
       "34 thwiki  control           24       43      \n",
       "35 thwiki  test              30       77      \n",
       "36 ukwiki  control          134      412      \n",
       "37 ukwiki  test             161      521      \n",
       "38 viwiki  control           71      156      \n",
       "39 viwiki  test              64      308      \n",
       "40 zhwiki  control          200      502      \n",
       "41 zhwiki  test             204      608      "
      ]
     },
     "metadata": {},
     "output_type": "display_data"
    }
   ],
   "source": [
    "ab_attempts_bywiki <- collect_edit_attempts %>%\n",
    "# review only AB edit attempts\n",
    "    filter(attempt_dt >= '2021-02-12',\n",
    "            experiment_group != 'NULL',\n",
    "            is_ab_test_wiki == TRUE) %>%\n",
    "    group_by(wiki, experiment_group) %>%\n",
    "    summarise(n_users = n_distinct(user_id),\n",
    "              n_attempts = n_distinct(edit_attempt_id))%>%\n",
    "    arrange(wiki)\n",
    "\n",
    "ab_attempts_bywiki"
   ]
  },
  {
   "cell_type": "markdown",
   "metadata": {},
   "source": [
    "There are no large discrepancies between the number of unique users that made an edit attempt in the control and test groups on each wiki as expected if 50% of users were randomly assigned to each bucket.\n",
    "\n",
    "Note: I reviewed the mediawiki user preferences table to confirm that users in each wiki were bucketed appropriately based on the `dicussiontools-abtest` preference and value. See further details in [T268193#6781374](https://phabricator.wikimedia.org/T268193#6781374).\n"
   ]
  },
  {
   "cell_type": "markdown",
   "metadata": {},
   "source": [
    "## AB Test Edit Attempts by User Edit Count"
   ]
  },
  {
   "cell_type": "code",
   "execution_count": 300,
   "metadata": {},
   "outputs": [
    {
     "name": "stderr",
     "output_type": "stream",
     "text": [
      "`summarise()` regrouping output by 'experiment_group' (override with `.groups` argument)\n",
      "\n"
     ]
    },
    {
     "data": {
      "text/html": [
       "<table>\n",
       "<caption>A grouped_df: 6 × 4</caption>\n",
       "<thead>\n",
       "\t<tr><th scope=col>experiment_group</th><th scope=col>initial_edit_count</th><th scope=col>n_users</th><th scope=col>n_attempts</th></tr>\n",
       "\t<tr><th scope=col>&lt;chr&gt;</th><th scope=col>&lt;chr&gt;</th><th scope=col>&lt;int&gt;</th><th scope=col>&lt;int&gt;</th></tr>\n",
       "</thead>\n",
       "<tbody>\n",
       "\t<tr><td>control</td><td>100-499  </td><td> 316</td><td> 838</td></tr>\n",
       "\t<tr><td>control</td><td>500+     </td><td>1340</td><td>4601</td></tr>\n",
       "\t<tr><td>control</td><td>under 100</td><td>1825</td><td>3104</td></tr>\n",
       "\t<tr><td>test   </td><td>100-499  </td><td> 364</td><td> 999</td></tr>\n",
       "\t<tr><td>test   </td><td>500+     </td><td>1355</td><td>5000</td></tr>\n",
       "\t<tr><td>test   </td><td>under 100</td><td>2132</td><td>4243</td></tr>\n",
       "</tbody>\n",
       "</table>\n"
      ],
      "text/latex": [
       "A grouped\\_df: 6 × 4\n",
       "\\begin{tabular}{llll}\n",
       " experiment\\_group & initial\\_edit\\_count & n\\_users & n\\_attempts\\\\\n",
       " <chr> & <chr> & <int> & <int>\\\\\n",
       "\\hline\n",
       "\t control & 100-499   &  316 &  838\\\\\n",
       "\t control & 500+      & 1340 & 4601\\\\\n",
       "\t control & under 100 & 1825 & 3104\\\\\n",
       "\t test    & 100-499   &  364 &  999\\\\\n",
       "\t test    & 500+      & 1355 & 5000\\\\\n",
       "\t test    & under 100 & 2132 & 4243\\\\\n",
       "\\end{tabular}\n"
      ],
      "text/markdown": [
       "\n",
       "A grouped_df: 6 × 4\n",
       "\n",
       "| experiment_group &lt;chr&gt; | initial_edit_count &lt;chr&gt; | n_users &lt;int&gt; | n_attempts &lt;int&gt; |\n",
       "|---|---|---|---|\n",
       "| control | 100-499   |  316 |  838 |\n",
       "| control | 500+      | 1340 | 4601 |\n",
       "| control | under 100 | 1825 | 3104 |\n",
       "| test    | 100-499   |  364 |  999 |\n",
       "| test    | 500+      | 1355 | 5000 |\n",
       "| test    | under 100 | 2132 | 4243 |\n",
       "\n"
      ],
      "text/plain": [
       "  experiment_group initial_edit_count n_users n_attempts\n",
       "1 control          100-499             316     838      \n",
       "2 control          500+               1340    4601      \n",
       "3 control          under 100          1825    3104      \n",
       "4 test             100-499             364     999      \n",
       "5 test             500+               1355    5000      \n",
       "6 test             under 100          2132    4243      "
      ]
     },
     "metadata": {},
     "output_type": "display_data"
    }
   ],
   "source": [
    "ab_attempts_byeditcount <- collect_edit_attempts %>%\n",
    "# review only AB edit attempts\n",
    "    filter(attempt_dt >= '2021-02-12',\n",
    "            experiment_group != 'NULL',\n",
    "            is_ab_test_wiki == TRUE) %>%\n",
    "    group_by(experiment_group, initial_edit_count) %>%\n",
    "    summarise(n_users = n_distinct(user_id),\n",
    "              n_attempts = n_distinct(edit_attempt_id))\n",
    "\n",
    "ab_attempts_byeditcount "
   ]
  },
  {
   "cell_type": "markdown",
   "metadata": {},
   "source": [
    "We are logging a reasonable amount of attempts in each edit count group for each test group across all participating wikis. \n",
    "\n",
    "Currently, we have edit attempts from the most unique users in the under 100 edits edit bucket  for both AB experiment groups. However, we are currently logging the most attempts from senior contributors with over 500 edits."
   ]
  },
  {
   "cell_type": "markdown",
   "metadata": {},
   "source": [
    "## AB Test Edit Attempts by Logged In Status"
   ]
  },
  {
   "cell_type": "code",
   "execution_count": null,
   "metadata": {},
   "outputs": [],
   "source": [
    "reply_ab_events_byloggedin <- collect_edit_attempts %>%\n",
    "    filter(attempt_dt >= '2021-02-12',\n",
    "            is_ab_test_wiki == TRUE,\n",
    "          test_group != 'NULL')  %>% \n",
    "    mutate(logged_in_status = ifelse(user_id == 0, 'logged-out', 'logged-in')) %>% \n",
    "    filter(logged_in_status == 'logged-out') %>% \n",
    "    group_by (wiki,test_group, initial_edit_count) %>%\n",
    "    summarise(users = n_distinct(user_id),\n",
    "              n_attempts = n_distinct(edit_attempt_id))\n",
    "\n",
    "reply_ab_events_byloggedin "
   ]
  },
  {
   "cell_type": "markdown",
   "metadata": {},
   "source": [
    "I confirmed that there are no edit attempts from logged out users recorded as part of the AB test. "
   ]
  },
  {
   "cell_type": "markdown",
   "metadata": {},
   "source": [
    "## AB Test Edit Attempts by Editing Interface"
   ]
  },
  {
   "cell_type": "code",
   "execution_count": 232,
   "metadata": {},
   "outputs": [
    {
     "name": "stderr",
     "output_type": "stream",
     "text": [
      "`summarise()` regrouping output by 'test_group' (override with `.groups` argument)\n",
      "\n"
     ]
    },
    {
     "data": {
      "text/html": [
       "<table>\n",
       "<caption>A grouped_df: 6 × 4</caption>\n",
       "<thead>\n",
       "\t<tr><th scope=col>test_group</th><th scope=col>editor_interface</th><th scope=col>n_users</th><th scope=col>n_attempts</th></tr>\n",
       "\t<tr><th scope=col>&lt;chr&gt;</th><th scope=col>&lt;chr&gt;</th><th scope=col>&lt;int&gt;</th><th scope=col>&lt;int&gt;</th></tr>\n",
       "</thead>\n",
       "<tbody>\n",
       "\t<tr><td>control</td><td>visualeditor </td><td>1478</td><td>2649</td></tr>\n",
       "\t<tr><td>control</td><td>wikitext     </td><td>1348</td><td>3083</td></tr>\n",
       "\t<tr><td>control</td><td>wikitext-2017</td><td>  49</td><td> 125</td></tr>\n",
       "\t<tr><td>test   </td><td>visualeditor </td><td>1754</td><td>3781</td></tr>\n",
       "\t<tr><td>test   </td><td>wikitext     </td><td>1577</td><td>3678</td></tr>\n",
       "\t<tr><td>test   </td><td>wikitext-2017</td><td>  44</td><td> 110</td></tr>\n",
       "</tbody>\n",
       "</table>\n"
      ],
      "text/latex": [
       "A grouped\\_df: 6 × 4\n",
       "\\begin{tabular}{llll}\n",
       " test\\_group & editor\\_interface & n\\_users & n\\_attempts\\\\\n",
       " <chr> & <chr> & <int> & <int>\\\\\n",
       "\\hline\n",
       "\t control & visualeditor  & 1478 & 2649\\\\\n",
       "\t control & wikitext      & 1348 & 3083\\\\\n",
       "\t control & wikitext-2017 &   49 &  125\\\\\n",
       "\t test    & visualeditor  & 1754 & 3781\\\\\n",
       "\t test    & wikitext      & 1577 & 3678\\\\\n",
       "\t test    & wikitext-2017 &   44 &  110\\\\\n",
       "\\end{tabular}\n"
      ],
      "text/markdown": [
       "\n",
       "A grouped_df: 6 × 4\n",
       "\n",
       "| test_group &lt;chr&gt; | editor_interface &lt;chr&gt; | n_users &lt;int&gt; | n_attempts &lt;int&gt; |\n",
       "|---|---|---|---|\n",
       "| control | visualeditor  | 1478 | 2649 |\n",
       "| control | wikitext      | 1348 | 3083 |\n",
       "| control | wikitext-2017 |   49 |  125 |\n",
       "| test    | visualeditor  | 1754 | 3781 |\n",
       "| test    | wikitext      | 1577 | 3678 |\n",
       "| test    | wikitext-2017 |   44 |  110 |\n",
       "\n"
      ],
      "text/plain": [
       "  test_group editor_interface n_users n_attempts\n",
       "1 control    visualeditor     1478    2649      \n",
       "2 control    wikitext         1348    3083      \n",
       "3 control    wikitext-2017      49     125      \n",
       "4 test       visualeditor     1754    3781      \n",
       "5 test       wikitext         1577    3678      \n",
       "6 test       wikitext-2017      44     110      "
      ]
     },
     "metadata": {},
     "output_type": "display_data"
    }
   ],
   "source": [
    "reply_ab_events_byinterface <- collect_edit_attempts %>%\n",
    "    filter(attempt_dt >= '2021-02-12',\n",
    "            is_ab_test_wiki == TRUE,\n",
    "          test_group != 'NULL')  %>%  \n",
    "    group_by (test_group, editor_interface) %>%\n",
    "    summarise(n_users = n_distinct(user_id),\n",
    "              n_attempts = n_distinct(edit_attempt_id))\n",
    "\n",
    "reply_ab_events_byinterface "
   ]
  },
  {
   "cell_type": "markdown",
   "metadata": {},
   "source": [
    "Events from all three editor interface types (visualeditor, wikitext, and wikitext-2017) were recorded for each test group type as expected. "
   ]
  },
  {
   "cell_type": "markdown",
   "metadata": {},
   "source": [
    "## Discussion tool events without oversampling change"
   ]
  },
  {
   "cell_type": "markdown",
   "metadata": {},
   "source": [
    "All of the data reported above in this report included the oversampling of discussion tool related events, which was deployed along with the other instrumentation changes on 12 February 2020.\n",
    "\n",
    "I reviewed edit attempts by oversampling status to confirm if this change was deployed correctly to all dt-related events."
   ]
  },
  {
   "cell_type": "code",
   "execution_count": 301,
   "metadata": {},
   "outputs": [
    {
     "name": "stderr",
     "output_type": "stream",
     "text": [
      "`summarise()` regrouping output by 'experiment_group' (override with `.groups` argument)\n",
      "\n"
     ]
    },
    {
     "data": {
      "text/html": [
       "<table>\n",
       "<caption>A grouped_df: 6 × 4</caption>\n",
       "<thead>\n",
       "\t<tr><th scope=col>test_group</th><th scope=col>is_oversample</th><th scope=col>n_users</th><th scope=col>n_attempts</th></tr>\n",
       "\t<tr><th scope=col>&lt;chr&gt;</th><th scope=col>&lt;chr&gt;</th><th scope=col>&lt;int&gt;</th><th scope=col>&lt;int&gt;</th></tr>\n",
       "</thead>\n",
       "<tbody>\n",
       "\t<tr><td>control</td><td>false</td><td> 2641</td><td>  5707</td></tr>\n",
       "\t<tr><td>control</td><td>true </td><td>   98</td><td>   149</td></tr>\n",
       "\t<tr><td>NULL   </td><td>false</td><td>73685</td><td>329915</td></tr>\n",
       "\t<tr><td>NULL   </td><td>true </td><td> 1348</td><td>  5530</td></tr>\n",
       "\t<tr><td>test   </td><td>false</td><td> 2586</td><td>  5726</td></tr>\n",
       "\t<tr><td>test   </td><td>true </td><td>  851</td><td>  1844</td></tr>\n",
       "</tbody>\n",
       "</table>\n"
      ],
      "text/latex": [
       "A grouped\\_df: 6 × 4\n",
       "\\begin{tabular}{llll}\n",
       " test\\_group & is\\_oversample & n\\_users & n\\_attempts\\\\\n",
       " <chr> & <chr> & <int> & <int>\\\\\n",
       "\\hline\n",
       "\t control & false &  2641 &   5707\\\\\n",
       "\t control & true  &    98 &    149\\\\\n",
       "\t NULL    & false & 73685 & 329915\\\\\n",
       "\t NULL    & true  &  1348 &   5530\\\\\n",
       "\t test    & false &  2586 &   5726\\\\\n",
       "\t test    & true  &   851 &   1844\\\\\n",
       "\\end{tabular}\n"
      ],
      "text/markdown": [
       "\n",
       "A grouped_df: 6 × 4\n",
       "\n",
       "| test_group &lt;chr&gt; | is_oversample &lt;chr&gt; | n_users &lt;int&gt; | n_attempts &lt;int&gt; |\n",
       "|---|---|---|---|\n",
       "| control | false |  2641 |   5707 |\n",
       "| control | true  |    98 |    149 |\n",
       "| NULL    | false | 73685 | 329915 |\n",
       "| NULL    | true  |  1348 |   5530 |\n",
       "| test    | false |  2586 |   5726 |\n",
       "| test    | true  |   851 |   1844 |\n",
       "\n"
      ],
      "text/plain": [
       "  test_group is_oversample n_users n_attempts\n",
       "1 control    false          2641     5707    \n",
       "2 control    true             98      149    \n",
       "3 NULL       false         73685   329915    \n",
       "4 NULL       true           1348     5530    \n",
       "5 test       false          2586     5726    \n",
       "6 test       true            851     1844    "
      ]
     },
     "metadata": {},
     "output_type": "display_data"
    }
   ],
   "source": [
    "# review edit attempts by oversample status\n",
    "edit_attempts_by_oversample <- collect_edit_attempts %>%\n",
    "    group_by (experiment_group, is_oversample) %>%\n",
    "    summarise(n_users = n_distinct(user_id),\n",
    "              n_attempts = n_distinct(edit_attempt_id))\n",
    "\n",
    "editattempts_by_oversample"
   ]
  },
  {
   "cell_type": "markdown",
   "metadata": {},
   "source": [
    "Oversampled events are recorded for each experiment group type.\n",
    "Now let's review discussion tool events by oversample status."
   ]
  },
  {
   "cell_type": "code",
   "execution_count": 302,
   "metadata": {},
   "outputs": [
    {
     "name": "stderr",
     "output_type": "stream",
     "text": [
      "`summarise()` regrouping output by 'event_type' (override with `.groups` argument)\n",
      "\n"
     ]
    },
    {
     "data": {
      "text/html": [
       "<table>\n",
       "<caption>A grouped_df: 4 × 4</caption>\n",
       "<thead>\n",
       "\t<tr><th scope=col>event_type</th><th scope=col>is_oversample</th><th scope=col>n_users</th><th scope=col>n_attempts</th></tr>\n",
       "\t<tr><th scope=col>&lt;chr&gt;</th><th scope=col>&lt;chr&gt;</th><th scope=col>&lt;int&gt;</th><th scope=col>&lt;int&gt;</th></tr>\n",
       "</thead>\n",
       "<tbody>\n",
       "\t<tr><td>discussiontools</td><td>false</td><td>  217</td><td>   387</td></tr>\n",
       "\t<tr><td>discussiontools</td><td>true </td><td> 1510</td><td>  5940</td></tr>\n",
       "\t<tr><td>page           </td><td>false</td><td>46210</td><td>164384</td></tr>\n",
       "\t<tr><td>page           </td><td>true </td><td>  404</td><td>   824</td></tr>\n",
       "</tbody>\n",
       "</table>\n"
      ],
      "text/latex": [
       "A grouped\\_df: 4 × 4\n",
       "\\begin{tabular}{llll}\n",
       " event\\_type & is\\_oversample & n\\_users & n\\_attempts\\\\\n",
       " <chr> & <chr> & <int> & <int>\\\\\n",
       "\\hline\n",
       "\t discussiontools & false &   217 &    387\\\\\n",
       "\t discussiontools & true  &  1510 &   5940\\\\\n",
       "\t page            & false & 46210 & 164384\\\\\n",
       "\t page            & true  &   404 &    824\\\\\n",
       "\\end{tabular}\n"
      ],
      "text/markdown": [
       "\n",
       "A grouped_df: 4 × 4\n",
       "\n",
       "| event_type &lt;chr&gt; | is_oversample &lt;chr&gt; | n_users &lt;int&gt; | n_attempts &lt;int&gt; |\n",
       "|---|---|---|---|\n",
       "| discussiontools | false |   217 |    387 |\n",
       "| discussiontools | true  |  1510 |   5940 |\n",
       "| page            | false | 46210 | 164384 |\n",
       "| page            | true  |   404 |    824 |\n",
       "\n"
      ],
      "text/plain": [
       "  event_type      is_oversample n_users n_attempts\n",
       "1 discussiontools false           217      387    \n",
       "2 discussiontools true           1510     5940    \n",
       "3 page            false         46210   164384    \n",
       "4 page            true            404      824    "
      ]
     },
     "metadata": {},
     "output_type": "display_data"
    }
   ],
   "source": [
    "dt_attempts_by_oversample <- collect_edit_attempts  %>%\n",
    "    filter(user_id != 0)  %>% \n",
    "    group_by (event_type, is_oversample) %>%\n",
    "    summarise(n_users = n_distinct(user_id),\n",
    "              n_attempts = n_distinct(edit_attempt_id))\n",
    "\n",
    "editattempts_bydtevents_by_oversample"
   ]
  },
  {
   "cell_type": "markdown",
   "metadata": {},
   "source": [
    "I confirmed that we are oversampling discussiontool events. There are also some non discussion tool events (`event.type = page`) we are still oversampling."
   ]
  },
  {
   "cell_type": "code",
   "execution_count": 303,
   "metadata": {},
   "outputs": [
    {
     "name": "stderr",
     "output_type": "stream",
     "text": [
      "`summarise()` regrouping output by 'attempt_dt' (override with `.groups` argument)\n",
      "\n"
     ]
    }
   ],
   "source": [
    "# daily discussion tool edits attempts by oversample\n",
    "\n",
    "dt_events_daily <- collect_edit_attempts %>%\n",
    "    filter(event_type == 'discussiontools') %>%\n",
    "    group_by(attempt_dt, is_oversample)  %>%\n",
    "    summarize(n_attempts = n_distinct(edit_attempt_id))\n"
   ]
  },
  {
   "cell_type": "code",
   "execution_count": 304,
   "metadata": {},
   "outputs": [
    {
     "name": "stderr",
     "output_type": "stream",
     "text": [
      "Warning message:\n",
      "“Removed 2 rows containing missing values (geom_vline).”\n"
     ]
    },
    {
     "data": {
      "image/png": "[encoded data removed]",
      "text/plain": [
       "plot without title"
      ]
     },
     "metadata": {
      "image/png": {
       "height": 480,
       "width": 840
      }
     },
     "output_type": "display_data"
    }
   ],
   "source": [
    "# plot daily dt events\n",
    "options(repr.plot.width = 14, repr.plot.height = 8)\n",
    "\n",
    "p <- dt_events_daily %>%\n",
    "    ggplot(aes(x= attempt_dt, y= n_attempts, color = is_oversample)) +\n",
    "    geom_line(size = 1.5) +\n",
    "    geom_vline(xintercept =  as.numeric(as.Date(c('2021-02-12', linetype = \"dashed\", color = \"black\")))) +\n",
    "    geom_text(aes(x=as.Date('2021-02-12'), y=600, label=\"Discussion Tool Sampling Rate Change\"), size=3.7, vjust = -1.2, angle = 90, color = \"black\") +\n",
    "    scale_x_date(date_labels = \"%b-%d\", date_breaks = \"1 day\", minor_breaks = NULL) +\n",
    "    scale_y_continuous(labels = polloi::compress) +\n",
    "    labs(\n",
    "    x = 'Date', y = \"edit attempts per day\",\n",
    "    title = \"Daily Discussion Tool Edit Attempt By Oversample\"\n",
    " ) +\n",
    "  theme(legend.position = \"bottom\",\n",
    "       text = element_text(size=20)) + \n",
    "  theme_bw() \n",
    "    \n",
    "\n",
    "p"
   ]
  },
  {
   "cell_type": "markdown",
   "metadata": {},
   "source": [
    "The plot above show that discussion tool events are oversampled starting on 12 Feb 2021 following the deployment of the config change. The increase in dt events fits with a sampling rate change of 100%."
   ]
  }
 ],
 "metadata": {
  "kernelspec": {
   "display_name": "R",
   "language": "R",
   "name": "ir"
  },
  "language_info": {
   "codemirror_mode": "r",
   "file_extension": ".r",
   "mimetype": "text/x-r-source",
   "name": "R",
   "pygments_lexer": "r",
   "version": "3.5.2"
  }
 },
 "nbformat": 4,
 "nbformat_minor": 4
}
