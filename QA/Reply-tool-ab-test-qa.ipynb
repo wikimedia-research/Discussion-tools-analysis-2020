{
 "cells": [
  {
   "cell_type": "markdown",
   "metadata": {},
   "source": [
    "# Reply Tool AB Test Post-Deployment QA\n",
    "\n",
    "[Task](https://phabricator.wikimedia.org/T273096)"
   ]
  },
  {
   "cell_type": "markdown",
   "metadata": {},
   "source": [
    "Instrumentation changes were deployed to make it possible to identify any non-discussion tool EditAttemptStep events by users in the AB test. The purpose of this post-deployment QA is to confirm that events are logging as expected and needed to run the AB test. \n",
    "\n",
    "Per this [gerrit change](https://gerrit.wikimedia.org/r/c/mediawiki/extensions/VisualEditor/+/660076/2/modules/ve-mw/init/ve.init.mw.trackSubscriber.js) it looks like they will be logged as \"discussiontools-abtest\". Will it be possible to differentiate the two groups?"
   ]
  },
  {
   "cell_type": "code",
   "execution_count": null,
   "metadata": {},
   "outputs": [],
   "source": [
    "shhh <- function(expr) suppressPackageStartupMessages(suppressWarnings(suppressMessages(expr)))\n",
    "shhh({\n",
    "    library(magrittr); library(zeallot); library(glue); library(tidyverse); library(zoo); library(lubridate)\n",
    "    library(scales)\n",
    "})"
   ]
  },
  {
   "cell_type": "code",
   "execution_count": 12,
   "metadata": {},
   "outputs": [],
   "source": [
    "# collect all init events by bucket and event type\n",
    "query <-\n",
    "\"\n",
    "SELECT\n",
    "  event.bucket AS test_group,\n",
    "  wiki As wiki,\n",
    "  IF(event.integration = 'discussiontools', 'discussiontool', 'non_discussion_tool') AS event_type,\n",
    "  COUNT (DISTINCT event.user_id) AS user,\n",
    "  COUNT(*) AS init_events\n",
    "FROM event.editattemptstep\n",
    "WHERE\n",
    "  year = 2021 \n",
    "-- review wikis where AB test deployed\n",
    "  AND wiki = 'idwiki'\n",
    "  AND event.action = 'init'\n",
    "  AND NOT event.init_type = 'section'\n",
    "-- remove logged out users that are not in test\n",
    "  AND event.user_id != 0\n",
    "GROUP BY \n",
    "  event.bucket,\n",
    "  wiki,\n",
    "  IF(event.integration = 'discussiontools', 'discussiontool', 'non_discussion_tool') \n",
    "\"\n"
   ]
  },
  {
   "cell_type": "code",
   "execution_count": 13,
   "metadata": {},
   "outputs": [
    {
     "name": "stderr",
     "output_type": "stream",
     "text": [
      "Don't forget to authenticate with Kerberos using kinit\n",
      "\n"
     ]
    }
   ],
   "source": [
    "collect_reply_init_events <- wmfdata::query_hive(query)"
   ]
  },
  {
   "cell_type": "code",
   "execution_count": 15,
   "metadata": {},
   "outputs": [
    {
     "data": {
      "text/html": [
       "<table>\n",
       "<caption>A data.frame: 3 × 5</caption>\n",
       "<thead>\n",
       "\t<tr><th scope=col>test_group</th><th scope=col>wiki</th><th scope=col>event_type</th><th scope=col>user</th><th scope=col>init_events</th></tr>\n",
       "\t<tr><th scope=col>&lt;chr&gt;</th><th scope=col>&lt;chr&gt;</th><th scope=col>&lt;chr&gt;</th><th scope=col>&lt;int&gt;</th><th scope=col>&lt;int&gt;</th></tr>\n",
       "</thead>\n",
       "<tbody>\n",
       "\t<tr><td>test</td><td>idwiki</td><td>discussiontool     </td><td>  6</td><td>   6</td></tr>\n",
       "\t<tr><td>NULL</td><td>idwiki</td><td>discussiontool     </td><td>  6</td><td>  18</td></tr>\n",
       "\t<tr><td>NULL</td><td>idwiki</td><td>non_discussion_tool</td><td>994</td><td>4003</td></tr>\n",
       "</tbody>\n",
       "</table>\n"
      ],
      "text/latex": [
       "A data.frame: 3 × 5\n",
       "\\begin{tabular}{lllll}\n",
       " test\\_group & wiki & event\\_type & user & init\\_events\\\\\n",
       " <chr> & <chr> & <chr> & <int> & <int>\\\\\n",
       "\\hline\n",
       "\t test & idwiki & discussiontool      &   6 &    6\\\\\n",
       "\t NULL & idwiki & discussiontool      &   6 &   18\\\\\n",
       "\t NULL & idwiki & non\\_discussion\\_tool & 994 & 4003\\\\\n",
       "\\end{tabular}\n"
      ],
      "text/markdown": [
       "\n",
       "A data.frame: 3 × 5\n",
       "\n",
       "| test_group &lt;chr&gt; | wiki &lt;chr&gt; | event_type &lt;chr&gt; | user &lt;int&gt; | init_events &lt;int&gt; |\n",
       "|---|---|---|---|---|\n",
       "| test | idwiki | discussiontool      |   6 |    6 |\n",
       "| NULL | idwiki | discussiontool      |   6 |   18 |\n",
       "| NULL | idwiki | non_discussion_tool | 994 | 4003 |\n",
       "\n"
      ],
      "text/plain": [
       "  test_group wiki   event_type          user init_events\n",
       "1 test       idwiki discussiontool        6     6       \n",
       "2 NULL       idwiki discussiontool        6    18       \n",
       "3 NULL       idwiki non_discussion_tool 994  4003       "
      ]
     },
     "metadata": {},
     "output_type": "display_data"
    }
   ],
   "source": [
    "collect_reply_init_events"
   ]
  },
  {
   "cell_type": "code",
   "execution_count": null,
   "metadata": {},
   "outputs": [],
   "source": [
    "# run check to make sure logged out users are not included\n"
   ]
  }
 ],
 "metadata": {
  "kernelspec": {
   "display_name": "R",
   "language": "R",
   "name": "ir"
  },
  "language_info": {
   "codemirror_mode": "r",
   "file_extension": ".r",
   "mimetype": "text/x-r-source",
   "name": "R",
   "pygments_lexer": "r",
   "version": "3.5.2"
  }
 },
 "nbformat": 4,
 "nbformat_minor": 4
}
