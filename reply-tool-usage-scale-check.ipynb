{
 "cells": [
  {
   "cell_type": "markdown",
   "metadata": {},
   "source": [
    "# Check scale of Reply Tool Usage"
   ]
  },
  {
   "cell_type": "markdown",
   "metadata": {},
   "source": [
    "[Task](https://phabricator.wikimedia.org/T263050)"
   ]
  },
  {
   "cell_type": "markdown",
   "metadata": {},
   "source": [
    "## Overview\n",
    "\n",
    "The reply tool was deployed as an opt-out preference on Arabic, Czech and Hungraian Wikipedias on 24 September 2020. This task is about determining the above so we can decide whether the data we've gathered \"thus far\" is representative enough to begin work on the workflow engagement metrics."
   ]
  },
  {
   "cell_type": "markdown",
   "metadata": {},
   "source": [
    "## Metrics\n",
    "* Number of events: a count of init events grouped by wiki and user edit count (read: experience level); logged out users should be included as well\n",
    "* Number of people: a count of the unique people who triggered an init event in the Reply Tool, grouped by wiki and user edit count (read: experience level); logged out users should be included as well\n",
    "\n",
    "Notes: Review mediawiki tags as well to compate\n",
    "Questions: Only reviewing ar, czech and hungarian wikis"
   ]
  },
  {
   "cell_type": "code",
   "execution_count": 36,
   "metadata": {},
   "outputs": [],
   "source": [
    "shhh <- function(expr) suppressPackageStartupMessages(suppressWarnings(suppressMessages(expr)))\n",
    "shhh({\n",
    "    library(magrittr); library(zeallot); library(glue); library(tidyverse); library(zoo); library(lubridate)\n",
    "    library(scales)\n",
    "})"
   ]
  },
  {
   "cell_type": "code",
   "execution_count": 100,
   "metadata": {},
   "outputs": [],
   "source": [
    "## Collect Dicussion tool init events for opt-out wikis since deployment date\n",
    "\n",
    "query<- \"\n",
    "SELECT\n",
    "  event.user_editcount AS edit_count,\n",
    "  event.user_id AS user,\n",
    "  wiki AS wiki,\n",
    "  COUNT(*) AS events\n",
    "FROM event.editattemptstep\n",
    "WHERE\n",
    "  year = 2020 \n",
    "-- events since deployment date\n",
    "  AND ((month = 09 and day >= 24) OR (month >= 10))\n",
    "-- review wikis where deployed as opt-out\n",
    "  AND wiki IN ('arwiki', 'cswiki', 'huwiki')\n",
    "  AND event.integration= 'discussiontools'\n",
    "  AND event.action = 'init'\n",
    "GROUP BY \n",
    "  event.user_editcount,\n",
    "  event.user_id,\n",
    "  wiki\""
   ]
  },
  {
   "cell_type": "code",
   "execution_count": 101,
   "metadata": {},
   "outputs": [
    {
     "name": "stderr",
     "output_type": "stream",
     "text": [
      "Don't forget to authenticate with Kerberos using kinit\n",
      "\n"
     ]
    }
   ],
   "source": [
    "collect_events_optout_wikis <- wmfdata::query_hive(query)"
   ]
  },
  {
   "cell_type": "code",
   "execution_count": 102,
   "metadata": {},
   "outputs": [],
   "source": [
    "# add column with user edit count buckets\n",
    "\n",
    "optout_events_with_editcount <- collect_events_optout_wikis %>%\n",
    "    mutate(edit_count_bucket = case_when(\n",
    "            edit_count == 0 ~ '0 edits',\n",
    "            edit_count >=1 & edit_count <= 4 ~ '1-4 edits',\n",
    "            edit_count >=5 & edit_count <= 99 ~ '5-99 edits',\n",
    "            edit_count >=100 & edit_count <= 999 ~ '100-999 edits',\n",
    "            edit_count >=1000 ~ '1000+ edits'))\n"
   ]
  },
  {
   "cell_type": "code",
   "execution_count": 103,
   "metadata": {},
   "outputs": [],
   "source": [
    "# Order edit counts\n",
    "optout_events_with_editcount$edit_count_bucket %<>% \n",
    "factor(levels= c(\"0 edits\", \"1-4 edits\", \"5-99 edits\", \"100-999 edits\", \"1000+ edits\"))\n"
   ]
  },
  {
   "cell_type": "markdown",
   "metadata": {},
   "source": [
    "# Number of Events"
   ]
  },
  {
   "cell_type": "markdown",
   "metadata": {},
   "source": [
    "## Total Number of Events Overall"
   ]
  },
  {
   "cell_type": "code",
   "execution_count": 104,
   "metadata": {},
   "outputs": [
    {
     "name": "stderr",
     "output_type": "stream",
     "text": [
      "`summarise()` ungrouping output (override with `.groups` argument)\n",
      "\n"
     ]
    },
    {
     "data": {
      "text/html": [
       "<table>\n",
       "<caption>A tibble: 5 × 2</caption>\n",
       "<thead>\n",
       "\t<tr><th scope=col>edit_count_bucket</th><th scope=col>num_events</th></tr>\n",
       "\t<tr><th scope=col>&lt;fct&gt;</th><th scope=col>&lt;int&gt;</th></tr>\n",
       "</thead>\n",
       "<tbody>\n",
       "\t<tr><td>0 edits      </td><td> 58</td></tr>\n",
       "\t<tr><td>1-4 edits    </td><td> 80</td></tr>\n",
       "\t<tr><td>5-99 edits   </td><td> 75</td></tr>\n",
       "\t<tr><td>100-999 edits</td><td> 42</td></tr>\n",
       "\t<tr><td>1000+ edits  </td><td>364</td></tr>\n",
       "</tbody>\n",
       "</table>\n"
      ],
      "text/latex": [
       "A tibble: 5 × 2\n",
       "\\begin{tabular}{ll}\n",
       " edit\\_count\\_bucket & num\\_events\\\\\n",
       " <fct> & <int>\\\\\n",
       "\\hline\n",
       "\t 0 edits       &  58\\\\\n",
       "\t 1-4 edits     &  80\\\\\n",
       "\t 5-99 edits    &  75\\\\\n",
       "\t 100-999 edits &  42\\\\\n",
       "\t 1000+ edits   & 364\\\\\n",
       "\\end{tabular}\n"
      ],
      "text/markdown": [
       "\n",
       "A tibble: 5 × 2\n",
       "\n",
       "| edit_count_bucket &lt;fct&gt; | num_events &lt;int&gt; |\n",
       "|---|---|\n",
       "| 0 edits       |  58 |\n",
       "| 1-4 edits     |  80 |\n",
       "| 5-99 edits    |  75 |\n",
       "| 100-999 edits |  42 |\n",
       "| 1000+ edits   | 364 |\n",
       "\n"
      ],
      "text/plain": [
       "  edit_count_bucket num_events\n",
       "1 0 edits            58       \n",
       "2 1-4 edits          80       \n",
       "3 5-99 edits         75       \n",
       "4 100-999 edits      42       \n",
       "5 1000+ edits       364       "
      ]
     },
     "metadata": {},
     "output_type": "display_data"
    }
   ],
   "source": [
    " #find number of init events by edit count bucket\n",
    "event_counts_overall <- optout_events_with_editcount %>%\n",
    "    group_by(edit_count_bucket) %>%\n",
    "    summarise(num_events = sum(events))\n",
    "\n",
    "event_counts_overall"
   ]
  },
  {
   "cell_type": "markdown",
   "metadata": {},
   "source": [
    "There have been 619 events to date, most by senior contributors (those with 1000 or more edits). We're only seeing about 213 total events from editors with 100 or less edits.\n",
    "\n",
    "Note: We do not know the edit count for logged out users. They are all recorded with an edit count of 0 in the data. "
   ]
  },
  {
   "cell_type": "markdown",
   "metadata": {},
   "source": [
    "## Number of Events By Wiki "
   ]
  },
  {
   "cell_type": "code",
   "execution_count": 105,
   "metadata": {},
   "outputs": [
    {
     "name": "stderr",
     "output_type": "stream",
     "text": [
      "`summarise()` ungrouping output (override with `.groups` argument)\n",
      "\n"
     ]
    },
    {
     "data": {
      "text/html": [
       "<table>\n",
       "<caption>A tibble: 3 × 2</caption>\n",
       "<thead>\n",
       "\t<tr><th scope=col>wiki</th><th scope=col>num_events</th></tr>\n",
       "\t<tr><th scope=col>&lt;chr&gt;</th><th scope=col>&lt;int&gt;</th></tr>\n",
       "</thead>\n",
       "<tbody>\n",
       "\t<tr><td>arwiki</td><td>330</td></tr>\n",
       "\t<tr><td>cswiki</td><td> 97</td></tr>\n",
       "\t<tr><td>huwiki</td><td>192</td></tr>\n",
       "</tbody>\n",
       "</table>\n"
      ],
      "text/latex": [
       "A tibble: 3 × 2\n",
       "\\begin{tabular}{ll}\n",
       " wiki & num\\_events\\\\\n",
       " <chr> & <int>\\\\\n",
       "\\hline\n",
       "\t arwiki & 330\\\\\n",
       "\t cswiki &  97\\\\\n",
       "\t huwiki & 192\\\\\n",
       "\\end{tabular}\n"
      ],
      "text/markdown": [
       "\n",
       "A tibble: 3 × 2\n",
       "\n",
       "| wiki &lt;chr&gt; | num_events &lt;int&gt; |\n",
       "|---|---|\n",
       "| arwiki | 330 |\n",
       "| cswiki |  97 |\n",
       "| huwiki | 192 |\n",
       "\n"
      ],
      "text/plain": [
       "  wiki   num_events\n",
       "1 arwiki 330       \n",
       "2 cswiki  97       \n",
       "3 huwiki 192       "
      ]
     },
     "metadata": {},
     "output_type": "display_data"
    }
   ],
   "source": [
    " #find number of init events by edit count bucket\n",
    "event_counts_overall <- optout_events_with_editcount %>%\n",
    "    group_by(wiki) %>%\n",
    "    summarise(num_events = sum(events))\n",
    "\n",
    "event_counts_overall"
   ]
  },
  {
   "cell_type": "markdown",
   "metadata": {},
   "source": [
    "Over half of the events come from Arabic Wikipedia. Czech Wikipedia has the lowest number of events (only 97)"
   ]
  },
  {
   "cell_type": "markdown",
   "metadata": {},
   "source": [
    "## Number of Events By Wiki and Edit Count"
   ]
  },
  {
   "cell_type": "code",
   "execution_count": 106,
   "metadata": {},
   "outputs": [
    {
     "name": "stderr",
     "output_type": "stream",
     "text": [
      "`summarise()` regrouping output by 'wiki' (override with `.groups` argument)\n",
      "\n"
     ]
    },
    {
     "data": {
      "text/html": [
       "<table>\n",
       "<caption>A grouped_df: 15 × 3</caption>\n",
       "<thead>\n",
       "\t<tr><th scope=col>wiki</th><th scope=col>edit_count_bucket</th><th scope=col>num_events</th></tr>\n",
       "\t<tr><th scope=col>&lt;chr&gt;</th><th scope=col>&lt;fct&gt;</th><th scope=col>&lt;int&gt;</th></tr>\n",
       "</thead>\n",
       "<tbody>\n",
       "\t<tr><td>arwiki</td><td>0 edits      </td><td> 19</td></tr>\n",
       "\t<tr><td>arwiki</td><td>1-4 edits    </td><td> 28</td></tr>\n",
       "\t<tr><td>arwiki</td><td>5-99 edits   </td><td> 34</td></tr>\n",
       "\t<tr><td>arwiki</td><td>100-999 edits</td><td> 22</td></tr>\n",
       "\t<tr><td>arwiki</td><td>1000+ edits  </td><td>227</td></tr>\n",
       "\t<tr><td>cswiki</td><td>0 edits      </td><td>  7</td></tr>\n",
       "\t<tr><td>cswiki</td><td>1-4 edits    </td><td> 29</td></tr>\n",
       "\t<tr><td>cswiki</td><td>5-99 edits   </td><td> 17</td></tr>\n",
       "\t<tr><td>cswiki</td><td>100-999 edits</td><td>  9</td></tr>\n",
       "\t<tr><td>cswiki</td><td>1000+ edits  </td><td> 35</td></tr>\n",
       "\t<tr><td>huwiki</td><td>0 edits      </td><td> 32</td></tr>\n",
       "\t<tr><td>huwiki</td><td>1-4 edits    </td><td> 23</td></tr>\n",
       "\t<tr><td>huwiki</td><td>5-99 edits   </td><td> 24</td></tr>\n",
       "\t<tr><td>huwiki</td><td>100-999 edits</td><td> 11</td></tr>\n",
       "\t<tr><td>huwiki</td><td>1000+ edits  </td><td>102</td></tr>\n",
       "</tbody>\n",
       "</table>\n"
      ],
      "text/latex": [
       "A grouped\\_df: 15 × 3\n",
       "\\begin{tabular}{lll}\n",
       " wiki & edit\\_count\\_bucket & num\\_events\\\\\n",
       " <chr> & <fct> & <int>\\\\\n",
       "\\hline\n",
       "\t arwiki & 0 edits       &  19\\\\\n",
       "\t arwiki & 1-4 edits     &  28\\\\\n",
       "\t arwiki & 5-99 edits    &  34\\\\\n",
       "\t arwiki & 100-999 edits &  22\\\\\n",
       "\t arwiki & 1000+ edits   & 227\\\\\n",
       "\t cswiki & 0 edits       &   7\\\\\n",
       "\t cswiki & 1-4 edits     &  29\\\\\n",
       "\t cswiki & 5-99 edits    &  17\\\\\n",
       "\t cswiki & 100-999 edits &   9\\\\\n",
       "\t cswiki & 1000+ edits   &  35\\\\\n",
       "\t huwiki & 0 edits       &  32\\\\\n",
       "\t huwiki & 1-4 edits     &  23\\\\\n",
       "\t huwiki & 5-99 edits    &  24\\\\\n",
       "\t huwiki & 100-999 edits &  11\\\\\n",
       "\t huwiki & 1000+ edits   & 102\\\\\n",
       "\\end{tabular}\n"
      ],
      "text/markdown": [
       "\n",
       "A grouped_df: 15 × 3\n",
       "\n",
       "| wiki &lt;chr&gt; | edit_count_bucket &lt;fct&gt; | num_events &lt;int&gt; |\n",
       "|---|---|---|\n",
       "| arwiki | 0 edits       |  19 |\n",
       "| arwiki | 1-4 edits     |  28 |\n",
       "| arwiki | 5-99 edits    |  34 |\n",
       "| arwiki | 100-999 edits |  22 |\n",
       "| arwiki | 1000+ edits   | 227 |\n",
       "| cswiki | 0 edits       |   7 |\n",
       "| cswiki | 1-4 edits     |  29 |\n",
       "| cswiki | 5-99 edits    |  17 |\n",
       "| cswiki | 100-999 edits |   9 |\n",
       "| cswiki | 1000+ edits   |  35 |\n",
       "| huwiki | 0 edits       |  32 |\n",
       "| huwiki | 1-4 edits     |  23 |\n",
       "| huwiki | 5-99 edits    |  24 |\n",
       "| huwiki | 100-999 edits |  11 |\n",
       "| huwiki | 1000+ edits   | 102 |\n",
       "\n"
      ],
      "text/plain": [
       "   wiki   edit_count_bucket num_events\n",
       "1  arwiki 0 edits            19       \n",
       "2  arwiki 1-4 edits          28       \n",
       "3  arwiki 5-99 edits         34       \n",
       "4  arwiki 100-999 edits      22       \n",
       "5  arwiki 1000+ edits       227       \n",
       "6  cswiki 0 edits             7       \n",
       "7  cswiki 1-4 edits          29       \n",
       "8  cswiki 5-99 edits         17       \n",
       "9  cswiki 100-999 edits       9       \n",
       "10 cswiki 1000+ edits        35       \n",
       "11 huwiki 0 edits            32       \n",
       "12 huwiki 1-4 edits          23       \n",
       "13 huwiki 5-99 edits         24       \n",
       "14 huwiki 100-999 edits      11       \n",
       "15 huwiki 1000+ edits       102       "
      ]
     },
     "metadata": {},
     "output_type": "display_data"
    }
   ],
   "source": [
    " #find number of init events by wiki and user edit count\n",
    "event_counts <- optout_events_with_editcount %>%\n",
    "    group_by(wiki, edit_count_bucket) %>%\n",
    "    summarise(num_events = sum(events)) %>%\n",
    "    arrange(wiki, edit_count_bucket)\n",
    " \n",
    "event_counts\n"
   ]
  },
  {
   "cell_type": "markdown",
   "metadata": {},
   "source": [
    "We the see the same trend of most events coming from senior contributors for each target wikipedia."
   ]
  },
  {
   "cell_type": "markdown",
   "metadata": {},
   "source": [
    "# Number of People\n",
    "\n",
    "Note: We cannot determine the distinct number of logged out users as we do not have a unique identifier for them recorded for discussion tool related events. The below numbers represent the total number of logged in users. "
   ]
  },
  {
   "cell_type": "markdown",
   "metadata": {},
   "source": [
    "## Total Number of People By Wiki and User Edit Count"
   ]
  },
  {
   "cell_type": "code",
   "execution_count": 120,
   "metadata": {},
   "outputs": [
    {
     "name": "stderr",
     "output_type": "stream",
     "text": [
      "`summarise()` regrouping output by 'wiki' (override with `.groups` argument)\n",
      "\n"
     ]
    },
    {
     "data": {
      "text/html": [
       "<table>\n",
       "<caption>A grouped_df: 15 × 3</caption>\n",
       "<thead>\n",
       "\t<tr><th scope=col>wiki</th><th scope=col>edit_count_bucket</th><th scope=col>num_users</th></tr>\n",
       "\t<tr><th scope=col>&lt;chr&gt;</th><th scope=col>&lt;fct&gt;</th><th scope=col>&lt;int&gt;</th></tr>\n",
       "</thead>\n",
       "<tbody>\n",
       "\t<tr><td>arwiki</td><td>0 edits      </td><td> 5</td></tr>\n",
       "\t<tr><td>arwiki</td><td>1-4 edits    </td><td>25</td></tr>\n",
       "\t<tr><td>arwiki</td><td>5-99 edits   </td><td>23</td></tr>\n",
       "\t<tr><td>arwiki</td><td>100-999 edits</td><td>13</td></tr>\n",
       "\t<tr><td>arwiki</td><td>1000+ edits  </td><td>43</td></tr>\n",
       "\t<tr><td>cswiki</td><td>0 edits      </td><td> 3</td></tr>\n",
       "\t<tr><td>cswiki</td><td>1-4 edits    </td><td>19</td></tr>\n",
       "\t<tr><td>cswiki</td><td>5-99 edits   </td><td>11</td></tr>\n",
       "\t<tr><td>cswiki</td><td>100-999 edits</td><td> 8</td></tr>\n",
       "\t<tr><td>cswiki</td><td>1000+ edits  </td><td>16</td></tr>\n",
       "\t<tr><td>huwiki</td><td>0 edits      </td><td> 1</td></tr>\n",
       "\t<tr><td>huwiki</td><td>1-4 edits    </td><td>16</td></tr>\n",
       "\t<tr><td>huwiki</td><td>5-99 edits   </td><td>10</td></tr>\n",
       "\t<tr><td>huwiki</td><td>100-999 edits</td><td> 3</td></tr>\n",
       "\t<tr><td>huwiki</td><td>1000+ edits  </td><td>30</td></tr>\n",
       "</tbody>\n",
       "</table>\n"
      ],
      "text/latex": [
       "A grouped\\_df: 15 × 3\n",
       "\\begin{tabular}{lll}\n",
       " wiki & edit\\_count\\_bucket & num\\_users\\\\\n",
       " <chr> & <fct> & <int>\\\\\n",
       "\\hline\n",
       "\t arwiki & 0 edits       &  5\\\\\n",
       "\t arwiki & 1-4 edits     & 25\\\\\n",
       "\t arwiki & 5-99 edits    & 23\\\\\n",
       "\t arwiki & 100-999 edits & 13\\\\\n",
       "\t arwiki & 1000+ edits   & 43\\\\\n",
       "\t cswiki & 0 edits       &  3\\\\\n",
       "\t cswiki & 1-4 edits     & 19\\\\\n",
       "\t cswiki & 5-99 edits    & 11\\\\\n",
       "\t cswiki & 100-999 edits &  8\\\\\n",
       "\t cswiki & 1000+ edits   & 16\\\\\n",
       "\t huwiki & 0 edits       &  1\\\\\n",
       "\t huwiki & 1-4 edits     & 16\\\\\n",
       "\t huwiki & 5-99 edits    & 10\\\\\n",
       "\t huwiki & 100-999 edits &  3\\\\\n",
       "\t huwiki & 1000+ edits   & 30\\\\\n",
       "\\end{tabular}\n"
      ],
      "text/markdown": [
       "\n",
       "A grouped_df: 15 × 3\n",
       "\n",
       "| wiki &lt;chr&gt; | edit_count_bucket &lt;fct&gt; | num_users &lt;int&gt; |\n",
       "|---|---|---|\n",
       "| arwiki | 0 edits       |  5 |\n",
       "| arwiki | 1-4 edits     | 25 |\n",
       "| arwiki | 5-99 edits    | 23 |\n",
       "| arwiki | 100-999 edits | 13 |\n",
       "| arwiki | 1000+ edits   | 43 |\n",
       "| cswiki | 0 edits       |  3 |\n",
       "| cswiki | 1-4 edits     | 19 |\n",
       "| cswiki | 5-99 edits    | 11 |\n",
       "| cswiki | 100-999 edits |  8 |\n",
       "| cswiki | 1000+ edits   | 16 |\n",
       "| huwiki | 0 edits       |  1 |\n",
       "| huwiki | 1-4 edits     | 16 |\n",
       "| huwiki | 5-99 edits    | 10 |\n",
       "| huwiki | 100-999 edits |  3 |\n",
       "| huwiki | 1000+ edits   | 30 |\n",
       "\n"
      ],
      "text/plain": [
       "   wiki   edit_count_bucket num_users\n",
       "1  arwiki 0 edits            5       \n",
       "2  arwiki 1-4 edits         25       \n",
       "3  arwiki 5-99 edits        23       \n",
       "4  arwiki 100-999 edits     13       \n",
       "5  arwiki 1000+ edits       43       \n",
       "6  cswiki 0 edits            3       \n",
       "7  cswiki 1-4 edits         19       \n",
       "8  cswiki 5-99 edits        11       \n",
       "9  cswiki 100-999 edits      8       \n",
       "10 cswiki 1000+ edits       16       \n",
       "11 huwiki 0 edits            1       \n",
       "12 huwiki 1-4 edits         16       \n",
       "13 huwiki 5-99 edits        10       \n",
       "14 huwiki 100-999 edits      3       \n",
       "15 huwiki 1000+ edits       30       "
      ]
     },
     "metadata": {},
     "output_type": "display_data"
    }
   ],
   "source": [
    "## Total Number of People By User Edit Count\n",
    "\n",
    "user_counts_byeditcount <- optout_events_with_editcount %>%\n",
    "# unable to identify distinct logged out users so removing from this analysis\n",
    "    filter(user != 0) %>%\n",
    "    group_by(wiki, edit_count_bucket) %>%\n",
    "    summarise(num_users = n_distinct(user))\n",
    "\n",
    "user_counts_byeditcount"
   ]
  },
  {
   "cell_type": "markdown",
   "metadata": {},
   "source": [
    "There have been 226 distinct users of the reply tool since released as op-out. The majority of users come from Arabic Wikipedia.\n",
    "\n",
    "\n",
    "Except for Czech Wikipedia, the majority of reply tool users in each target wiki are Senior Contributors with 1000 or more cumulative edits. On Czech Wikipedia, those with 1-4 edits have just a couple more (19 compared to 16 users)."
   ]
  },
  {
   "cell_type": "markdown",
   "metadata": {},
   "source": [
    "## Logged Out Events"
   ]
  },
  {
   "cell_type": "markdown",
   "metadata": {},
   "source": [
    "We cannot determine the distinct number of logged out users as we do not have a unique identifier for them; however, we can determine the number of events that come from logged out users"
   ]
  },
  {
   "cell_type": "code",
   "execution_count": 121,
   "metadata": {},
   "outputs": [
    {
     "name": "stderr",
     "output_type": "stream",
     "text": [
      "`summarise()` regrouping output by 'wiki' (override with `.groups` argument)\n",
      "\n"
     ]
    },
    {
     "data": {
      "text/html": [
       "<table>\n",
       "<caption>A grouped_df: 3 × 3</caption>\n",
       "<thead>\n",
       "\t<tr><th scope=col>wiki</th><th scope=col>edit_count_bucket</th><th scope=col>num_events</th></tr>\n",
       "\t<tr><th scope=col>&lt;chr&gt;</th><th scope=col>&lt;fct&gt;</th><th scope=col>&lt;int&gt;</th></tr>\n",
       "</thead>\n",
       "<tbody>\n",
       "\t<tr><td>arwiki</td><td>0 edits</td><td>11</td></tr>\n",
       "\t<tr><td>cswiki</td><td>0 edits</td><td> 4</td></tr>\n",
       "\t<tr><td>huwiki</td><td>0 edits</td><td>30</td></tr>\n",
       "</tbody>\n",
       "</table>\n"
      ],
      "text/latex": [
       "A grouped\\_df: 3 × 3\n",
       "\\begin{tabular}{lll}\n",
       " wiki & edit\\_count\\_bucket & num\\_events\\\\\n",
       " <chr> & <fct> & <int>\\\\\n",
       "\\hline\n",
       "\t arwiki & 0 edits & 11\\\\\n",
       "\t cswiki & 0 edits &  4\\\\\n",
       "\t huwiki & 0 edits & 30\\\\\n",
       "\\end{tabular}\n"
      ],
      "text/markdown": [
       "\n",
       "A grouped_df: 3 × 3\n",
       "\n",
       "| wiki &lt;chr&gt; | edit_count_bucket &lt;fct&gt; | num_events &lt;int&gt; |\n",
       "|---|---|---|\n",
       "| arwiki | 0 edits | 11 |\n",
       "| cswiki | 0 edits |  4 |\n",
       "| huwiki | 0 edits | 30 |\n",
       "\n"
      ],
      "text/plain": [
       "  wiki   edit_count_bucket num_events\n",
       "1 arwiki 0 edits           11        \n",
       "2 cswiki 0 edits            4        \n",
       "3 huwiki 0 edits           30        "
      ]
     },
     "metadata": {},
     "output_type": "display_data"
    }
   ],
   "source": [
    "## Total Number of Logged Out Events\n",
    "\n",
    "user_events_byloggedout <- optout_events_with_editcount %>%\n",
    "    filter(user == 0) %>%\n",
    "    group_by(wiki, edit_count_bucket) %>%\n",
    "    summarise(num_events = sum(events))\n",
    "\n",
    "user_events_byloggedout"
   ]
  },
  {
   "cell_type": "code",
   "execution_count": null,
   "metadata": {},
   "outputs": [],
   "source": []
  }
 ],
 "metadata": {
  "kernelspec": {
   "display_name": "R",
   "language": "R",
   "name": "ir"
  },
  "language_info": {
   "codemirror_mode": "r",
   "file_extension": ".r",
   "mimetype": "text/x-r-source",
   "name": "R",
   "pygments_lexer": "r",
   "version": "3.5.2"
  }
 },
 "nbformat": 4,
 "nbformat_minor": 4
}
